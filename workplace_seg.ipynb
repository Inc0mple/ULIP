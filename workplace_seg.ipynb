{
 "cells": [
  {
   "cell_type": "code",
   "execution_count": 1,
   "metadata": {},
   "outputs": [],
   "source": [
    "import os\n",
    "import torch\n",
    "import nibabel as nib\n",
    "from torch.utils.data import Dataset\n",
    "import matplotlib.pyplot as plt\n",
    "from scipy.ndimage import zoom\n",
    "import SimpleITK as sitk\n",
    "from SimpleITK import GetImageFromArray\n",
    "import numpy as np\n",
    "from scipy.ndimage import zoom\n",
    "from monai.metrics import DiceMetric\n",
    "import monai\n",
    "\n",
    "from monai.transforms import (\n",
    "    Activations,\n",
    "    AddChannel,\n",
    "    AsDiscrete,\n",
    "    Compose,\n",
    "    LoadImage,\n",
    "    RandRotate90,\n",
    "    RandSpatialCrop,\n",
    "    ScaleIntensity,\n",
    "    EnsureType,\n",
    "    MapTransform,\n",
    "    HistogramNormalize,\n",
    "    AdjustContrast,\n",
    "    EnsureChannelFirst,\n",
    "    CastToType,\n",
    ")\n",
    "\n"
   ]
  },
  {
   "cell_type": "markdown",
   "metadata": {},
   "source": [
    "# Preprocessing"
   ]
  },
  {
   "cell_type": "code",
   "execution_count": 50,
   "metadata": {},
   "outputs": [
    {
     "name": "stdout",
     "output_type": "stream",
     "text": [
      "File: TOF_10044B.nii.gz, Shape: (512, 512, 100)\n",
      "File: TOF_10046B.nii.gz, Shape: (512, 512, 140)\n",
      "File: TOF_10060B.nii.gz, Shape: (1024, 1024, 160)\n",
      "File: TOF_10047B.nii.gz, Shape: (512, 512, 138)\n",
      "File: TOF_10056B.nii.gz, Shape: (256, 256, 100)\n",
      "File: TOF_10062B.nii.gz, Shape: (512, 512, 138)\n"
     ]
    },
    {
     "ename": "KeyboardInterrupt",
     "evalue": "",
     "output_type": "error",
     "traceback": [
      "\u001b[0;31m---------------------------------------------------------------------------\u001b[0m",
      "\u001b[0;31mKeyboardInterrupt\u001b[0m                         Traceback (most recent call last)",
      "\u001b[0;32m/tmp/ipykernel_28694/2228996400.py\u001b[0m in \u001b[0;36m<module>\u001b[0;34m\u001b[0m\n\u001b[1;32m     11\u001b[0m         \u001b[0mfile_path\u001b[0m \u001b[0;34m=\u001b[0m \u001b[0mos\u001b[0m\u001b[0;34m.\u001b[0m\u001b[0mpath\u001b[0m\u001b[0;34m.\u001b[0m\u001b[0mjoin\u001b[0m\u001b[0;34m(\u001b[0m\u001b[0mpath\u001b[0m\u001b[0;34m,\u001b[0m \u001b[0mfilename\u001b[0m\u001b[0;34m)\u001b[0m\u001b[0;34m\u001b[0m\u001b[0;34m\u001b[0m\u001b[0m\n\u001b[1;32m     12\u001b[0m         \u001b[0mimg\u001b[0m \u001b[0;34m=\u001b[0m \u001b[0mnib\u001b[0m\u001b[0;34m.\u001b[0m\u001b[0mload\u001b[0m\u001b[0;34m(\u001b[0m\u001b[0mfile_path\u001b[0m\u001b[0;34m)\u001b[0m\u001b[0;34m\u001b[0m\u001b[0;34m\u001b[0m\u001b[0m\n\u001b[0;32m---> 13\u001b[0;31m         \u001b[0mdata\u001b[0m \u001b[0;34m=\u001b[0m \u001b[0mimg\u001b[0m\u001b[0;34m.\u001b[0m\u001b[0mget_fdata\u001b[0m\u001b[0;34m(\u001b[0m\u001b[0;34m)\u001b[0m\u001b[0;34m\u001b[0m\u001b[0;34m\u001b[0m\u001b[0m\n\u001b[0m\u001b[1;32m     14\u001b[0m         \u001b[0mprint\u001b[0m\u001b[0;34m(\u001b[0m\u001b[0;34mf\"File: {filename}, Shape: {data.shape}\"\u001b[0m\u001b[0;34m)\u001b[0m\u001b[0;34m\u001b[0m\u001b[0;34m\u001b[0m\u001b[0m\n\u001b[1;32m     15\u001b[0m \u001b[0;34m\u001b[0m\u001b[0m\n",
      "\u001b[0;32m~/anaconda3/envs/ulip/lib/python3.7/site-packages/nibabel/dataobj_images.py\u001b[0m in \u001b[0;36mget_fdata\u001b[0;34m(self, caching, dtype)\u001b[0m\n\u001b[1;32m    353\u001b[0m         \u001b[0;31m# For array proxies, will attempt to confine data array to dtype\u001b[0m\u001b[0;34m\u001b[0m\u001b[0;34m\u001b[0m\u001b[0;34m\u001b[0m\u001b[0m\n\u001b[1;32m    354\u001b[0m         \u001b[0;31m# during scaling\u001b[0m\u001b[0;34m\u001b[0m\u001b[0;34m\u001b[0m\u001b[0;34m\u001b[0m\u001b[0m\n\u001b[0;32m--> 355\u001b[0;31m         \u001b[0mdata\u001b[0m \u001b[0;34m=\u001b[0m \u001b[0mnp\u001b[0m\u001b[0;34m.\u001b[0m\u001b[0masanyarray\u001b[0m\u001b[0;34m(\u001b[0m\u001b[0mself\u001b[0m\u001b[0;34m.\u001b[0m\u001b[0m_dataobj\u001b[0m\u001b[0;34m,\u001b[0m \u001b[0mdtype\u001b[0m\u001b[0;34m=\u001b[0m\u001b[0mdtype\u001b[0m\u001b[0;34m)\u001b[0m\u001b[0;34m\u001b[0m\u001b[0;34m\u001b[0m\u001b[0m\n\u001b[0m\u001b[1;32m    356\u001b[0m         \u001b[0;32mif\u001b[0m \u001b[0mcaching\u001b[0m \u001b[0;34m==\u001b[0m \u001b[0;34m'fill'\u001b[0m\u001b[0;34m:\u001b[0m\u001b[0;34m\u001b[0m\u001b[0;34m\u001b[0m\u001b[0m\n\u001b[1;32m    357\u001b[0m             \u001b[0mself\u001b[0m\u001b[0;34m.\u001b[0m\u001b[0m_fdata_cache\u001b[0m \u001b[0;34m=\u001b[0m \u001b[0mdata\u001b[0m\u001b[0;34m\u001b[0m\u001b[0;34m\u001b[0m\u001b[0m\n",
      "\u001b[0;32m~/anaconda3/envs/ulip/lib/python3.7/site-packages/nibabel/arrayproxy.py\u001b[0m in \u001b[0;36m__array__\u001b[0;34m(self, dtype)\u001b[0m\n\u001b[1;32m    368\u001b[0m             \u001b[0mScaled\u001b[0m \u001b[0mimage\u001b[0m \u001b[0mdata\u001b[0m \u001b[0;32mwith\u001b[0m \u001b[0mtype\u001b[0m\u001b[0;31m \u001b[0m\u001b[0;31m`\u001b[0m\u001b[0mdtype\u001b[0m\u001b[0;31m`\u001b[0m\u001b[0;34m.\u001b[0m\u001b[0;34m\u001b[0m\u001b[0;34m\u001b[0m\u001b[0m\n\u001b[1;32m    369\u001b[0m         \"\"\"\n\u001b[0;32m--> 370\u001b[0;31m         \u001b[0marr\u001b[0m \u001b[0;34m=\u001b[0m \u001b[0mself\u001b[0m\u001b[0;34m.\u001b[0m\u001b[0m_get_scaled\u001b[0m\u001b[0;34m(\u001b[0m\u001b[0mdtype\u001b[0m\u001b[0;34m=\u001b[0m\u001b[0mdtype\u001b[0m\u001b[0;34m,\u001b[0m \u001b[0mslicer\u001b[0m\u001b[0;34m=\u001b[0m\u001b[0;34m(\u001b[0m\u001b[0;34m)\u001b[0m\u001b[0;34m)\u001b[0m\u001b[0;34m\u001b[0m\u001b[0;34m\u001b[0m\u001b[0m\n\u001b[0m\u001b[1;32m    371\u001b[0m         \u001b[0;32mif\u001b[0m \u001b[0mdtype\u001b[0m \u001b[0;32mis\u001b[0m \u001b[0;32mnot\u001b[0m \u001b[0;32mNone\u001b[0m\u001b[0;34m:\u001b[0m\u001b[0;34m\u001b[0m\u001b[0;34m\u001b[0m\u001b[0m\n\u001b[1;32m    372\u001b[0m             \u001b[0marr\u001b[0m \u001b[0;34m=\u001b[0m \u001b[0marr\u001b[0m\u001b[0;34m.\u001b[0m\u001b[0mastype\u001b[0m\u001b[0;34m(\u001b[0m\u001b[0mdtype\u001b[0m\u001b[0;34m,\u001b[0m \u001b[0mcopy\u001b[0m\u001b[0;34m=\u001b[0m\u001b[0;32mFalse\u001b[0m\u001b[0;34m)\u001b[0m\u001b[0;34m\u001b[0m\u001b[0;34m\u001b[0m\u001b[0m\n",
      "\u001b[0;32m~/anaconda3/envs/ulip/lib/python3.7/site-packages/nibabel/arrayproxy.py\u001b[0m in \u001b[0;36m_get_scaled\u001b[0;34m(self, dtype, slicer)\u001b[0m\n\u001b[1;32m    335\u001b[0m             \u001b[0mscl_inter\u001b[0m \u001b[0;34m=\u001b[0m \u001b[0mscl_inter\u001b[0m\u001b[0;34m.\u001b[0m\u001b[0mastype\u001b[0m\u001b[0;34m(\u001b[0m\u001b[0muse_dtype\u001b[0m\u001b[0;34m)\u001b[0m\u001b[0;34m\u001b[0m\u001b[0;34m\u001b[0m\u001b[0m\n\u001b[1;32m    336\u001b[0m         \u001b[0;31m# Read array and upcast as necessary for big slopes, intercepts\u001b[0m\u001b[0;34m\u001b[0m\u001b[0;34m\u001b[0m\u001b[0;34m\u001b[0m\u001b[0m\n\u001b[0;32m--> 337\u001b[0;31m         \u001b[0mscaled\u001b[0m \u001b[0;34m=\u001b[0m \u001b[0mapply_read_scaling\u001b[0m\u001b[0;34m(\u001b[0m\u001b[0mself\u001b[0m\u001b[0;34m.\u001b[0m\u001b[0m_get_unscaled\u001b[0m\u001b[0;34m(\u001b[0m\u001b[0mslicer\u001b[0m\u001b[0;34m=\u001b[0m\u001b[0mslicer\u001b[0m\u001b[0;34m)\u001b[0m\u001b[0;34m,\u001b[0m \u001b[0mscl_slope\u001b[0m\u001b[0;34m,\u001b[0m \u001b[0mscl_inter\u001b[0m\u001b[0;34m)\u001b[0m\u001b[0;34m\u001b[0m\u001b[0;34m\u001b[0m\u001b[0m\n\u001b[0m\u001b[1;32m    338\u001b[0m         \u001b[0;32mif\u001b[0m \u001b[0mdtype\u001b[0m \u001b[0;32mis\u001b[0m \u001b[0;32mnot\u001b[0m \u001b[0;32mNone\u001b[0m\u001b[0;34m:\u001b[0m\u001b[0;34m\u001b[0m\u001b[0;34m\u001b[0m\u001b[0m\n\u001b[1;32m    339\u001b[0m             \u001b[0mscaled\u001b[0m \u001b[0;34m=\u001b[0m \u001b[0mscaled\u001b[0m\u001b[0;34m.\u001b[0m\u001b[0mastype\u001b[0m\u001b[0;34m(\u001b[0m\u001b[0mnp\u001b[0m\u001b[0;34m.\u001b[0m\u001b[0mpromote_types\u001b[0m\u001b[0;34m(\u001b[0m\u001b[0mscaled\u001b[0m\u001b[0;34m.\u001b[0m\u001b[0mdtype\u001b[0m\u001b[0;34m,\u001b[0m \u001b[0mdtype\u001b[0m\u001b[0;34m)\u001b[0m\u001b[0;34m,\u001b[0m \u001b[0mcopy\u001b[0m\u001b[0;34m=\u001b[0m\u001b[0;32mFalse\u001b[0m\u001b[0;34m)\u001b[0m\u001b[0;34m\u001b[0m\u001b[0;34m\u001b[0m\u001b[0m\n",
      "\u001b[0;32m~/anaconda3/envs/ulip/lib/python3.7/site-packages/nibabel/arrayproxy.py\u001b[0m in \u001b[0;36m_get_unscaled\u001b[0;34m(self, slicer)\u001b[0m\n\u001b[1;32m    314\u001b[0m                                        \u001b[0moffset\u001b[0m\u001b[0;34m=\u001b[0m\u001b[0mself\u001b[0m\u001b[0;34m.\u001b[0m\u001b[0m_offset\u001b[0m\u001b[0;34m,\u001b[0m\u001b[0;34m\u001b[0m\u001b[0;34m\u001b[0m\u001b[0m\n\u001b[1;32m    315\u001b[0m                                        \u001b[0morder\u001b[0m\u001b[0;34m=\u001b[0m\u001b[0mself\u001b[0m\u001b[0;34m.\u001b[0m\u001b[0morder\u001b[0m\u001b[0;34m,\u001b[0m\u001b[0;34m\u001b[0m\u001b[0;34m\u001b[0m\u001b[0m\n\u001b[0;32m--> 316\u001b[0;31m                                        mmap=self._mmap)\n\u001b[0m\u001b[1;32m    317\u001b[0m         \u001b[0;32mwith\u001b[0m \u001b[0mself\u001b[0m\u001b[0;34m.\u001b[0m\u001b[0m_get_fileobj\u001b[0m\u001b[0;34m(\u001b[0m\u001b[0;34m)\u001b[0m \u001b[0;32mas\u001b[0m \u001b[0mfileobj\u001b[0m\u001b[0;34m:\u001b[0m\u001b[0;34m\u001b[0m\u001b[0;34m\u001b[0m\u001b[0m\n\u001b[1;32m    318\u001b[0m             return fileslice(fileobj,\n",
      "\u001b[0;32m~/anaconda3/envs/ulip/lib/python3.7/site-packages/nibabel/volumeutils.py\u001b[0m in \u001b[0;36marray_from_file\u001b[0;34m(shape, in_dtype, infile, offset, order, mmap)\u001b[0m\n\u001b[1;32m    459\u001b[0m     \u001b[0;32mif\u001b[0m \u001b[0mhasattr\u001b[0m\u001b[0;34m(\u001b[0m\u001b[0minfile\u001b[0m\u001b[0;34m,\u001b[0m \u001b[0;34m'readinto'\u001b[0m\u001b[0;34m)\u001b[0m\u001b[0;34m:\u001b[0m\u001b[0;34m\u001b[0m\u001b[0;34m\u001b[0m\u001b[0m\n\u001b[1;32m    460\u001b[0m         \u001b[0mdata_bytes\u001b[0m \u001b[0;34m=\u001b[0m \u001b[0mbytearray\u001b[0m\u001b[0;34m(\u001b[0m\u001b[0mn_bytes\u001b[0m\u001b[0;34m)\u001b[0m\u001b[0;34m\u001b[0m\u001b[0;34m\u001b[0m\u001b[0m\n\u001b[0;32m--> 461\u001b[0;31m         \u001b[0mn_read\u001b[0m \u001b[0;34m=\u001b[0m \u001b[0minfile\u001b[0m\u001b[0;34m.\u001b[0m\u001b[0mreadinto\u001b[0m\u001b[0;34m(\u001b[0m\u001b[0mdata_bytes\u001b[0m\u001b[0;34m)\u001b[0m\u001b[0;34m\u001b[0m\u001b[0;34m\u001b[0m\u001b[0m\n\u001b[0m\u001b[1;32m    462\u001b[0m         \u001b[0mneeds_copy\u001b[0m \u001b[0;34m=\u001b[0m \u001b[0;32mFalse\u001b[0m\u001b[0;34m\u001b[0m\u001b[0;34m\u001b[0m\u001b[0m\n\u001b[1;32m    463\u001b[0m     \u001b[0;32melse\u001b[0m\u001b[0;34m:\u001b[0m\u001b[0;34m\u001b[0m\u001b[0;34m\u001b[0m\u001b[0m\n",
      "\u001b[0;32m~/anaconda3/envs/ulip/lib/python3.7/gzip.py\u001b[0m in \u001b[0;36mread\u001b[0;34m(self, size)\u001b[0m\n\u001b[1;32m    285\u001b[0m             \u001b[0;32mimport\u001b[0m \u001b[0merrno\u001b[0m\u001b[0;34m\u001b[0m\u001b[0;34m\u001b[0m\u001b[0m\n\u001b[1;32m    286\u001b[0m             \u001b[0;32mraise\u001b[0m \u001b[0mOSError\u001b[0m\u001b[0;34m(\u001b[0m\u001b[0merrno\u001b[0m\u001b[0;34m.\u001b[0m\u001b[0mEBADF\u001b[0m\u001b[0;34m,\u001b[0m \u001b[0;34m\"read() on write-only GzipFile object\"\u001b[0m\u001b[0;34m)\u001b[0m\u001b[0;34m\u001b[0m\u001b[0;34m\u001b[0m\u001b[0m\n\u001b[0;32m--> 287\u001b[0;31m         \u001b[0;32mreturn\u001b[0m \u001b[0mself\u001b[0m\u001b[0;34m.\u001b[0m\u001b[0m_buffer\u001b[0m\u001b[0;34m.\u001b[0m\u001b[0mread\u001b[0m\u001b[0;34m(\u001b[0m\u001b[0msize\u001b[0m\u001b[0;34m)\u001b[0m\u001b[0;34m\u001b[0m\u001b[0;34m\u001b[0m\u001b[0m\n\u001b[0m\u001b[1;32m    288\u001b[0m \u001b[0;34m\u001b[0m\u001b[0m\n\u001b[1;32m    289\u001b[0m     \u001b[0;32mdef\u001b[0m \u001b[0mread1\u001b[0m\u001b[0;34m(\u001b[0m\u001b[0mself\u001b[0m\u001b[0;34m,\u001b[0m \u001b[0msize\u001b[0m\u001b[0;34m=\u001b[0m\u001b[0;34m-\u001b[0m\u001b[0;36m1\u001b[0m\u001b[0;34m)\u001b[0m\u001b[0;34m:\u001b[0m\u001b[0;34m\u001b[0m\u001b[0;34m\u001b[0m\u001b[0m\n",
      "\u001b[0;32m~/anaconda3/envs/ulip/lib/python3.7/_compression.py\u001b[0m in \u001b[0;36mreadinto\u001b[0;34m(self, b)\u001b[0m\n\u001b[1;32m     66\u001b[0m     \u001b[0;32mdef\u001b[0m \u001b[0mreadinto\u001b[0m\u001b[0;34m(\u001b[0m\u001b[0mself\u001b[0m\u001b[0;34m,\u001b[0m \u001b[0mb\u001b[0m\u001b[0;34m)\u001b[0m\u001b[0;34m:\u001b[0m\u001b[0;34m\u001b[0m\u001b[0;34m\u001b[0m\u001b[0m\n\u001b[1;32m     67\u001b[0m         \u001b[0;32mwith\u001b[0m \u001b[0mmemoryview\u001b[0m\u001b[0;34m(\u001b[0m\u001b[0mb\u001b[0m\u001b[0;34m)\u001b[0m \u001b[0;32mas\u001b[0m \u001b[0mview\u001b[0m\u001b[0;34m,\u001b[0m \u001b[0mview\u001b[0m\u001b[0;34m.\u001b[0m\u001b[0mcast\u001b[0m\u001b[0;34m(\u001b[0m\u001b[0;34m\"B\"\u001b[0m\u001b[0;34m)\u001b[0m \u001b[0;32mas\u001b[0m \u001b[0mbyte_view\u001b[0m\u001b[0;34m:\u001b[0m\u001b[0;34m\u001b[0m\u001b[0;34m\u001b[0m\u001b[0m\n\u001b[0;32m---> 68\u001b[0;31m             \u001b[0mdata\u001b[0m \u001b[0;34m=\u001b[0m \u001b[0mself\u001b[0m\u001b[0;34m.\u001b[0m\u001b[0mread\u001b[0m\u001b[0;34m(\u001b[0m\u001b[0mlen\u001b[0m\u001b[0;34m(\u001b[0m\u001b[0mbyte_view\u001b[0m\u001b[0;34m)\u001b[0m\u001b[0;34m)\u001b[0m\u001b[0;34m\u001b[0m\u001b[0;34m\u001b[0m\u001b[0m\n\u001b[0m\u001b[1;32m     69\u001b[0m             \u001b[0mbyte_view\u001b[0m\u001b[0;34m[\u001b[0m\u001b[0;34m:\u001b[0m\u001b[0mlen\u001b[0m\u001b[0;34m(\u001b[0m\u001b[0mdata\u001b[0m\u001b[0;34m)\u001b[0m\u001b[0;34m]\u001b[0m \u001b[0;34m=\u001b[0m \u001b[0mdata\u001b[0m\u001b[0;34m\u001b[0m\u001b[0;34m\u001b[0m\u001b[0m\n\u001b[1;32m     70\u001b[0m         \u001b[0;32mreturn\u001b[0m \u001b[0mlen\u001b[0m\u001b[0;34m(\u001b[0m\u001b[0mdata\u001b[0m\u001b[0;34m)\u001b[0m\u001b[0;34m\u001b[0m\u001b[0;34m\u001b[0m\u001b[0m\n",
      "\u001b[0;32m~/anaconda3/envs/ulip/lib/python3.7/gzip.py\u001b[0m in \u001b[0;36mread\u001b[0;34m(self, size)\u001b[0m\n\u001b[1;32m    480\u001b[0m             \u001b[0mbuf\u001b[0m \u001b[0;34m=\u001b[0m \u001b[0mself\u001b[0m\u001b[0;34m.\u001b[0m\u001b[0m_fp\u001b[0m\u001b[0;34m.\u001b[0m\u001b[0mread\u001b[0m\u001b[0;34m(\u001b[0m\u001b[0mio\u001b[0m\u001b[0;34m.\u001b[0m\u001b[0mDEFAULT_BUFFER_SIZE\u001b[0m\u001b[0;34m)\u001b[0m\u001b[0;34m\u001b[0m\u001b[0;34m\u001b[0m\u001b[0m\n\u001b[1;32m    481\u001b[0m \u001b[0;34m\u001b[0m\u001b[0m\n\u001b[0;32m--> 482\u001b[0;31m             \u001b[0muncompress\u001b[0m \u001b[0;34m=\u001b[0m \u001b[0mself\u001b[0m\u001b[0;34m.\u001b[0m\u001b[0m_decompressor\u001b[0m\u001b[0;34m.\u001b[0m\u001b[0mdecompress\u001b[0m\u001b[0;34m(\u001b[0m\u001b[0mbuf\u001b[0m\u001b[0;34m,\u001b[0m \u001b[0msize\u001b[0m\u001b[0;34m)\u001b[0m\u001b[0;34m\u001b[0m\u001b[0;34m\u001b[0m\u001b[0m\n\u001b[0m\u001b[1;32m    483\u001b[0m             \u001b[0;32mif\u001b[0m \u001b[0mself\u001b[0m\u001b[0;34m.\u001b[0m\u001b[0m_decompressor\u001b[0m\u001b[0;34m.\u001b[0m\u001b[0munconsumed_tail\u001b[0m \u001b[0;34m!=\u001b[0m \u001b[0;34mb\"\"\u001b[0m\u001b[0;34m:\u001b[0m\u001b[0;34m\u001b[0m\u001b[0;34m\u001b[0m\u001b[0m\n\u001b[1;32m    484\u001b[0m                 \u001b[0mself\u001b[0m\u001b[0;34m.\u001b[0m\u001b[0m_fp\u001b[0m\u001b[0;34m.\u001b[0m\u001b[0mprepend\u001b[0m\u001b[0;34m(\u001b[0m\u001b[0mself\u001b[0m\u001b[0;34m.\u001b[0m\u001b[0m_decompressor\u001b[0m\u001b[0;34m.\u001b[0m\u001b[0munconsumed_tail\u001b[0m\u001b[0;34m)\u001b[0m\u001b[0;34m\u001b[0m\u001b[0;34m\u001b[0m\u001b[0m\n",
      "\u001b[0;31mKeyboardInterrupt\u001b[0m: "
     ]
    }
   ],
   "source": [
    "# Define path to NIfTI files\n",
    "path = 'ADAM_features/Baseline_Subjects'\n",
    "\n",
    "# Initialize variables to store min and max dimensions\n",
    "min_width, min_height, min_depth = float('inf'), float('inf'), float('inf')\n",
    "max_width, max_height, max_depth = float('-inf'), float('-inf'), float('-inf')\n",
    "\n",
    "# Loop over all NIfTI files in the directory\n",
    "for filename in os.listdir(path):\n",
    "    if filename.endswith('.nii.gz'):\n",
    "        file_path = os.path.join(path, filename)\n",
    "        img = nib.load(file_path)\n",
    "        data = img.get_fdata()\n",
    "        print(f\"File: {filename}, Shape: {data.shape}\")\n",
    "\n",
    "        width, height, depth = data.shape\n",
    "        min_width, max_width = min(min_width, width), max(max_width, width)\n",
    "        min_height, max_height = min(\n",
    "            min_height, height), max(max_height, height)\n",
    "        min_depth, max_depth = min(min_depth, depth), max(max_depth, depth)\n",
    "\n",
    "print(\"\\nDimension statistics:\")\n",
    "print(f\"Min Width: {min_width}, Max Width: {max_width}\")\n",
    "print(f\"Min Height: {min_height}, Max Height: {max_height}\")\n",
    "print(f\"Min Depth: {min_depth}, Max Depth: {max_depth}\")\n"
   ]
  },
  {
   "cell_type": "code",
   "execution_count": 5,
   "metadata": {},
   "outputs": [
    {
     "name": "stdout",
     "output_type": "stream",
     "text": [
      "File: TOF_10047F.nii.gz, Shape: (512, 512, 98)\n",
      "File: TOF_10054F.nii.gz, Shape: (512, 512, 140)\n",
      "File: TOF_10053F.nii.gz, Shape: (560, 560, 140)\n",
      "File: TOF_10065F.nii.gz, Shape: (512, 512, 65)\n",
      "File: TOF_10070F.nii.gz, Shape: (560, 560, 140)\n",
      "File: TOF_10069F.nii.gz, Shape: (560, 560, 140)\n",
      "File: TOF_10049F.nii.gz, Shape: (560, 560, 140)\n",
      "File: TOF_10050F.nii.gz, Shape: (512, 512, 138)\n",
      "File: TOF_10048F.nii.gz, Shape: (560, 560, 150)\n",
      "File: TOF_10063F.nii.gz, Shape: (560, 560, 140)\n",
      "File: TOF_10051F.nii.gz, Shape: (560, 560, 140)\n",
      "File: TOF_10074F.nii.gz, Shape: (560, 560, 140)\n",
      "File: TOF_10066F.nii.gz, Shape: (512, 512, 138)\n",
      "File: TOF_10064F.nii.gz, Shape: (560, 560, 140)\n",
      "File: TOF_10056F.nii.gz, Shape: (560, 560, 140)\n",
      "File: TOF_10071F.nii.gz, Shape: (560, 560, 140)\n",
      "File: TOF_10055F.nii.gz, Shape: (512, 512, 140)\n",
      "File: TOF_10045F.nii.gz, Shape: (512, 512, 140)\n",
      "File: TOF_10073F.nii.gz, Shape: (512, 512, 140)\n",
      "File: TOF_10068F.nii.gz, Shape: (1024, 1024, 160)\n",
      "File: TOF_10046F.nii.gz, Shape: (560, 560, 140)\n",
      "File: TOF_10067F.nii.gz, Shape: (560, 560, 140)\n",
      "File: TOF_10072F.nii.gz, Shape: (512, 512, 138)\n",
      "File: TOF_10077F.nii.gz, Shape: (560, 560, 140)\n",
      "File: TOF_10075F.nii.gz, Shape: (512, 512, 138)\n",
      "File: TOF_10059F.nii.gz, Shape: (1024, 1024, 160)\n",
      "File: TOF_10060F.nii.gz, Shape: (512, 512, 140)\n",
      "File: TOF_10078F.nii.gz, Shape: (560, 560, 140)\n",
      "File: TOF_10052F.nii.gz, Shape: (512, 512, 160)\n",
      "File: TOF_10057F.nii.gz, Shape: (560, 560, 140)\n",
      "File: TOF_10061F.nii.gz, Shape: (512, 512, 140)\n",
      "File: TOF_10058F.nii.gz, Shape: (512, 512, 138)\n",
      "File: TOF_10062F.nii.gz, Shape: (512, 512, 140)\n",
      "File: TOF_10044F.nii.gz, Shape: (512, 512, 140)\n",
      "File: TOF_10076F.nii.gz, Shape: (1024, 1024, 160)\n",
      "\n",
      "Dimension statistics:\n",
      "Min Width: 512, Max Width: 1024\n",
      "Min Height: 512, Max Height: 1024\n",
      "Min Depth: 65, Max Depth: 160\n"
     ]
    }
   ],
   "source": [
    "# Define path to NIfTI files\n",
    "path = 'ADAM_features/Followup_Subjects'\n",
    "\n",
    "# Initialize variables to store min and max dimensions\n",
    "min_width, min_height, min_depth = float('inf'), float('inf'), float('inf')\n",
    "max_width, max_height, max_depth = float('-inf'), float('-inf'), float('-inf')\n",
    "\n",
    "# Loop over all NIfTI files in the directory\n",
    "for filename in os.listdir(path):\n",
    "    if filename.endswith('.nii.gz'):\n",
    "        file_path = os.path.join(path, filename)\n",
    "        img = nib.load(file_path)\n",
    "        data = img.get_fdata()\n",
    "        print(f\"File: {filename}, Shape: {data.shape}\")\n",
    "\n",
    "        width, height, depth = data.shape\n",
    "        min_width, max_width = min(min_width, width), max(max_width, width)\n",
    "        min_height, max_height = min(\n",
    "            min_height, height), max(max_height, height)\n",
    "        min_depth, max_depth = min(min_depth, depth), max(max_depth, depth)\n",
    "\n",
    "print(\"\\nDimension statistics:\")\n",
    "print(f\"Min Width: {min_width}, Max Width: {max_width}\")\n",
    "print(f\"Min Height: {min_height}, Max Height: {max_height}\")\n",
    "print(f\"Min Depth: {min_depth}, Max Depth: {max_depth}\")\n"
   ]
  },
  {
   "cell_type": "code",
   "execution_count": 2,
   "metadata": {},
   "outputs": [
    {
     "name": "stdout",
     "output_type": "stream",
     "text": [
      "File: TOF_10036.nii.gz, Shape: (560, 560, 140)\n"
     ]
    },
    {
     "ename": "KeyboardInterrupt",
     "evalue": "",
     "output_type": "error",
     "traceback": [
      "\u001b[0;31m---------------------------------------------------------------------------\u001b[0m",
      "\u001b[0;31mKeyboardInterrupt\u001b[0m                         Traceback (most recent call last)",
      "\u001b[0;32m/tmp/ipykernel_21230/640808786.py\u001b[0m in \u001b[0;36m<module>\u001b[0;34m\u001b[0m\n\u001b[1;32m     11\u001b[0m         \u001b[0mfile_path\u001b[0m \u001b[0;34m=\u001b[0m \u001b[0mos\u001b[0m\u001b[0;34m.\u001b[0m\u001b[0mpath\u001b[0m\u001b[0;34m.\u001b[0m\u001b[0mjoin\u001b[0m\u001b[0;34m(\u001b[0m\u001b[0mpath\u001b[0m\u001b[0;34m,\u001b[0m \u001b[0mfilename\u001b[0m\u001b[0;34m)\u001b[0m\u001b[0;34m\u001b[0m\u001b[0;34m\u001b[0m\u001b[0m\n\u001b[1;32m     12\u001b[0m         \u001b[0mimg\u001b[0m \u001b[0;34m=\u001b[0m \u001b[0mnib\u001b[0m\u001b[0;34m.\u001b[0m\u001b[0mload\u001b[0m\u001b[0;34m(\u001b[0m\u001b[0mfile_path\u001b[0m\u001b[0;34m)\u001b[0m\u001b[0;34m\u001b[0m\u001b[0;34m\u001b[0m\u001b[0m\n\u001b[0;32m---> 13\u001b[0;31m         \u001b[0mdata\u001b[0m \u001b[0;34m=\u001b[0m \u001b[0mimg\u001b[0m\u001b[0;34m.\u001b[0m\u001b[0mget_fdata\u001b[0m\u001b[0;34m(\u001b[0m\u001b[0;34m)\u001b[0m\u001b[0;34m\u001b[0m\u001b[0;34m\u001b[0m\u001b[0m\n\u001b[0m\u001b[1;32m     14\u001b[0m         \u001b[0mprint\u001b[0m\u001b[0;34m(\u001b[0m\u001b[0;34mf\"File: {filename}, Shape: {data.shape}\"\u001b[0m\u001b[0;34m)\u001b[0m\u001b[0;34m\u001b[0m\u001b[0;34m\u001b[0m\u001b[0m\n\u001b[1;32m     15\u001b[0m \u001b[0;34m\u001b[0m\u001b[0m\n",
      "\u001b[0;32m~/anaconda3/envs/ulip/lib/python3.7/site-packages/nibabel/dataobj_images.py\u001b[0m in \u001b[0;36mget_fdata\u001b[0;34m(self, caching, dtype)\u001b[0m\n\u001b[1;32m    353\u001b[0m         \u001b[0;31m# For array proxies, will attempt to confine data array to dtype\u001b[0m\u001b[0;34m\u001b[0m\u001b[0;34m\u001b[0m\u001b[0;34m\u001b[0m\u001b[0m\n\u001b[1;32m    354\u001b[0m         \u001b[0;31m# during scaling\u001b[0m\u001b[0;34m\u001b[0m\u001b[0;34m\u001b[0m\u001b[0;34m\u001b[0m\u001b[0m\n\u001b[0;32m--> 355\u001b[0;31m         \u001b[0mdata\u001b[0m \u001b[0;34m=\u001b[0m \u001b[0mnp\u001b[0m\u001b[0;34m.\u001b[0m\u001b[0masanyarray\u001b[0m\u001b[0;34m(\u001b[0m\u001b[0mself\u001b[0m\u001b[0;34m.\u001b[0m\u001b[0m_dataobj\u001b[0m\u001b[0;34m,\u001b[0m \u001b[0mdtype\u001b[0m\u001b[0;34m=\u001b[0m\u001b[0mdtype\u001b[0m\u001b[0;34m)\u001b[0m\u001b[0;34m\u001b[0m\u001b[0;34m\u001b[0m\u001b[0m\n\u001b[0m\u001b[1;32m    356\u001b[0m         \u001b[0;32mif\u001b[0m \u001b[0mcaching\u001b[0m \u001b[0;34m==\u001b[0m \u001b[0;34m'fill'\u001b[0m\u001b[0;34m:\u001b[0m\u001b[0;34m\u001b[0m\u001b[0;34m\u001b[0m\u001b[0m\n\u001b[1;32m    357\u001b[0m             \u001b[0mself\u001b[0m\u001b[0;34m.\u001b[0m\u001b[0m_fdata_cache\u001b[0m \u001b[0;34m=\u001b[0m \u001b[0mdata\u001b[0m\u001b[0;34m\u001b[0m\u001b[0;34m\u001b[0m\u001b[0m\n",
      "\u001b[0;32m~/anaconda3/envs/ulip/lib/python3.7/site-packages/nibabel/arrayproxy.py\u001b[0m in \u001b[0;36m__array__\u001b[0;34m(self, dtype)\u001b[0m\n\u001b[1;32m    368\u001b[0m             \u001b[0mScaled\u001b[0m \u001b[0mimage\u001b[0m \u001b[0mdata\u001b[0m \u001b[0;32mwith\u001b[0m \u001b[0mtype\u001b[0m\u001b[0;31m \u001b[0m\u001b[0;31m`\u001b[0m\u001b[0mdtype\u001b[0m\u001b[0;31m`\u001b[0m\u001b[0;34m.\u001b[0m\u001b[0;34m\u001b[0m\u001b[0;34m\u001b[0m\u001b[0m\n\u001b[1;32m    369\u001b[0m         \"\"\"\n\u001b[0;32m--> 370\u001b[0;31m         \u001b[0marr\u001b[0m \u001b[0;34m=\u001b[0m \u001b[0mself\u001b[0m\u001b[0;34m.\u001b[0m\u001b[0m_get_scaled\u001b[0m\u001b[0;34m(\u001b[0m\u001b[0mdtype\u001b[0m\u001b[0;34m=\u001b[0m\u001b[0mdtype\u001b[0m\u001b[0;34m,\u001b[0m \u001b[0mslicer\u001b[0m\u001b[0;34m=\u001b[0m\u001b[0;34m(\u001b[0m\u001b[0;34m)\u001b[0m\u001b[0;34m)\u001b[0m\u001b[0;34m\u001b[0m\u001b[0;34m\u001b[0m\u001b[0m\n\u001b[0m\u001b[1;32m    371\u001b[0m         \u001b[0;32mif\u001b[0m \u001b[0mdtype\u001b[0m \u001b[0;32mis\u001b[0m \u001b[0;32mnot\u001b[0m \u001b[0;32mNone\u001b[0m\u001b[0;34m:\u001b[0m\u001b[0;34m\u001b[0m\u001b[0;34m\u001b[0m\u001b[0m\n\u001b[1;32m    372\u001b[0m             \u001b[0marr\u001b[0m \u001b[0;34m=\u001b[0m \u001b[0marr\u001b[0m\u001b[0;34m.\u001b[0m\u001b[0mastype\u001b[0m\u001b[0;34m(\u001b[0m\u001b[0mdtype\u001b[0m\u001b[0;34m,\u001b[0m \u001b[0mcopy\u001b[0m\u001b[0;34m=\u001b[0m\u001b[0;32mFalse\u001b[0m\u001b[0;34m)\u001b[0m\u001b[0;34m\u001b[0m\u001b[0;34m\u001b[0m\u001b[0m\n",
      "\u001b[0;32m~/anaconda3/envs/ulip/lib/python3.7/site-packages/nibabel/arrayproxy.py\u001b[0m in \u001b[0;36m_get_scaled\u001b[0;34m(self, dtype, slicer)\u001b[0m\n\u001b[1;32m    335\u001b[0m             \u001b[0mscl_inter\u001b[0m \u001b[0;34m=\u001b[0m \u001b[0mscl_inter\u001b[0m\u001b[0;34m.\u001b[0m\u001b[0mastype\u001b[0m\u001b[0;34m(\u001b[0m\u001b[0muse_dtype\u001b[0m\u001b[0;34m)\u001b[0m\u001b[0;34m\u001b[0m\u001b[0;34m\u001b[0m\u001b[0m\n\u001b[1;32m    336\u001b[0m         \u001b[0;31m# Read array and upcast as necessary for big slopes, intercepts\u001b[0m\u001b[0;34m\u001b[0m\u001b[0;34m\u001b[0m\u001b[0;34m\u001b[0m\u001b[0m\n\u001b[0;32m--> 337\u001b[0;31m         \u001b[0mscaled\u001b[0m \u001b[0;34m=\u001b[0m \u001b[0mapply_read_scaling\u001b[0m\u001b[0;34m(\u001b[0m\u001b[0mself\u001b[0m\u001b[0;34m.\u001b[0m\u001b[0m_get_unscaled\u001b[0m\u001b[0;34m(\u001b[0m\u001b[0mslicer\u001b[0m\u001b[0;34m=\u001b[0m\u001b[0mslicer\u001b[0m\u001b[0;34m)\u001b[0m\u001b[0;34m,\u001b[0m \u001b[0mscl_slope\u001b[0m\u001b[0;34m,\u001b[0m \u001b[0mscl_inter\u001b[0m\u001b[0;34m)\u001b[0m\u001b[0;34m\u001b[0m\u001b[0;34m\u001b[0m\u001b[0m\n\u001b[0m\u001b[1;32m    338\u001b[0m         \u001b[0;32mif\u001b[0m \u001b[0mdtype\u001b[0m \u001b[0;32mis\u001b[0m \u001b[0;32mnot\u001b[0m \u001b[0;32mNone\u001b[0m\u001b[0;34m:\u001b[0m\u001b[0;34m\u001b[0m\u001b[0;34m\u001b[0m\u001b[0m\n\u001b[1;32m    339\u001b[0m             \u001b[0mscaled\u001b[0m \u001b[0;34m=\u001b[0m \u001b[0mscaled\u001b[0m\u001b[0;34m.\u001b[0m\u001b[0mastype\u001b[0m\u001b[0;34m(\u001b[0m\u001b[0mnp\u001b[0m\u001b[0;34m.\u001b[0m\u001b[0mpromote_types\u001b[0m\u001b[0;34m(\u001b[0m\u001b[0mscaled\u001b[0m\u001b[0;34m.\u001b[0m\u001b[0mdtype\u001b[0m\u001b[0;34m,\u001b[0m \u001b[0mdtype\u001b[0m\u001b[0;34m)\u001b[0m\u001b[0;34m,\u001b[0m \u001b[0mcopy\u001b[0m\u001b[0;34m=\u001b[0m\u001b[0;32mFalse\u001b[0m\u001b[0;34m)\u001b[0m\u001b[0;34m\u001b[0m\u001b[0;34m\u001b[0m\u001b[0m\n",
      "\u001b[0;32m~/anaconda3/envs/ulip/lib/python3.7/site-packages/nibabel/arrayproxy.py\u001b[0m in \u001b[0;36m_get_unscaled\u001b[0;34m(self, slicer)\u001b[0m\n\u001b[1;32m    314\u001b[0m                                        \u001b[0moffset\u001b[0m\u001b[0;34m=\u001b[0m\u001b[0mself\u001b[0m\u001b[0;34m.\u001b[0m\u001b[0m_offset\u001b[0m\u001b[0;34m,\u001b[0m\u001b[0;34m\u001b[0m\u001b[0;34m\u001b[0m\u001b[0m\n\u001b[1;32m    315\u001b[0m                                        \u001b[0morder\u001b[0m\u001b[0;34m=\u001b[0m\u001b[0mself\u001b[0m\u001b[0;34m.\u001b[0m\u001b[0morder\u001b[0m\u001b[0;34m,\u001b[0m\u001b[0;34m\u001b[0m\u001b[0;34m\u001b[0m\u001b[0m\n\u001b[0;32m--> 316\u001b[0;31m                                        mmap=self._mmap)\n\u001b[0m\u001b[1;32m    317\u001b[0m         \u001b[0;32mwith\u001b[0m \u001b[0mself\u001b[0m\u001b[0;34m.\u001b[0m\u001b[0m_get_fileobj\u001b[0m\u001b[0;34m(\u001b[0m\u001b[0;34m)\u001b[0m \u001b[0;32mas\u001b[0m \u001b[0mfileobj\u001b[0m\u001b[0;34m:\u001b[0m\u001b[0;34m\u001b[0m\u001b[0;34m\u001b[0m\u001b[0m\n\u001b[1;32m    318\u001b[0m             return fileslice(fileobj,\n",
      "\u001b[0;32m~/anaconda3/envs/ulip/lib/python3.7/site-packages/nibabel/volumeutils.py\u001b[0m in \u001b[0;36marray_from_file\u001b[0;34m(shape, in_dtype, infile, offset, order, mmap)\u001b[0m\n\u001b[1;32m    459\u001b[0m     \u001b[0;32mif\u001b[0m \u001b[0mhasattr\u001b[0m\u001b[0;34m(\u001b[0m\u001b[0minfile\u001b[0m\u001b[0;34m,\u001b[0m \u001b[0;34m'readinto'\u001b[0m\u001b[0;34m)\u001b[0m\u001b[0;34m:\u001b[0m\u001b[0;34m\u001b[0m\u001b[0;34m\u001b[0m\u001b[0m\n\u001b[1;32m    460\u001b[0m         \u001b[0mdata_bytes\u001b[0m \u001b[0;34m=\u001b[0m \u001b[0mbytearray\u001b[0m\u001b[0;34m(\u001b[0m\u001b[0mn_bytes\u001b[0m\u001b[0;34m)\u001b[0m\u001b[0;34m\u001b[0m\u001b[0;34m\u001b[0m\u001b[0m\n\u001b[0;32m--> 461\u001b[0;31m         \u001b[0mn_read\u001b[0m \u001b[0;34m=\u001b[0m \u001b[0minfile\u001b[0m\u001b[0;34m.\u001b[0m\u001b[0mreadinto\u001b[0m\u001b[0;34m(\u001b[0m\u001b[0mdata_bytes\u001b[0m\u001b[0;34m)\u001b[0m\u001b[0;34m\u001b[0m\u001b[0;34m\u001b[0m\u001b[0m\n\u001b[0m\u001b[1;32m    462\u001b[0m         \u001b[0mneeds_copy\u001b[0m \u001b[0;34m=\u001b[0m \u001b[0;32mFalse\u001b[0m\u001b[0;34m\u001b[0m\u001b[0;34m\u001b[0m\u001b[0m\n\u001b[1;32m    463\u001b[0m     \u001b[0;32melse\u001b[0m\u001b[0;34m:\u001b[0m\u001b[0;34m\u001b[0m\u001b[0;34m\u001b[0m\u001b[0m\n",
      "\u001b[0;32m~/anaconda3/envs/ulip/lib/python3.7/gzip.py\u001b[0m in \u001b[0;36mread\u001b[0;34m(self, size)\u001b[0m\n\u001b[1;32m    285\u001b[0m             \u001b[0;32mimport\u001b[0m \u001b[0merrno\u001b[0m\u001b[0;34m\u001b[0m\u001b[0;34m\u001b[0m\u001b[0m\n\u001b[1;32m    286\u001b[0m             \u001b[0;32mraise\u001b[0m \u001b[0mOSError\u001b[0m\u001b[0;34m(\u001b[0m\u001b[0merrno\u001b[0m\u001b[0;34m.\u001b[0m\u001b[0mEBADF\u001b[0m\u001b[0;34m,\u001b[0m \u001b[0;34m\"read() on write-only GzipFile object\"\u001b[0m\u001b[0;34m)\u001b[0m\u001b[0;34m\u001b[0m\u001b[0;34m\u001b[0m\u001b[0m\n\u001b[0;32m--> 287\u001b[0;31m         \u001b[0;32mreturn\u001b[0m \u001b[0mself\u001b[0m\u001b[0;34m.\u001b[0m\u001b[0m_buffer\u001b[0m\u001b[0;34m.\u001b[0m\u001b[0mread\u001b[0m\u001b[0;34m(\u001b[0m\u001b[0msize\u001b[0m\u001b[0;34m)\u001b[0m\u001b[0;34m\u001b[0m\u001b[0;34m\u001b[0m\u001b[0m\n\u001b[0m\u001b[1;32m    288\u001b[0m \u001b[0;34m\u001b[0m\u001b[0m\n\u001b[1;32m    289\u001b[0m     \u001b[0;32mdef\u001b[0m \u001b[0mread1\u001b[0m\u001b[0;34m(\u001b[0m\u001b[0mself\u001b[0m\u001b[0;34m,\u001b[0m \u001b[0msize\u001b[0m\u001b[0;34m=\u001b[0m\u001b[0;34m-\u001b[0m\u001b[0;36m1\u001b[0m\u001b[0;34m)\u001b[0m\u001b[0;34m:\u001b[0m\u001b[0;34m\u001b[0m\u001b[0;34m\u001b[0m\u001b[0m\n",
      "\u001b[0;32m~/anaconda3/envs/ulip/lib/python3.7/_compression.py\u001b[0m in \u001b[0;36mreadinto\u001b[0;34m(self, b)\u001b[0m\n\u001b[1;32m     66\u001b[0m     \u001b[0;32mdef\u001b[0m \u001b[0mreadinto\u001b[0m\u001b[0;34m(\u001b[0m\u001b[0mself\u001b[0m\u001b[0;34m,\u001b[0m \u001b[0mb\u001b[0m\u001b[0;34m)\u001b[0m\u001b[0;34m:\u001b[0m\u001b[0;34m\u001b[0m\u001b[0;34m\u001b[0m\u001b[0m\n\u001b[1;32m     67\u001b[0m         \u001b[0;32mwith\u001b[0m \u001b[0mmemoryview\u001b[0m\u001b[0;34m(\u001b[0m\u001b[0mb\u001b[0m\u001b[0;34m)\u001b[0m \u001b[0;32mas\u001b[0m \u001b[0mview\u001b[0m\u001b[0;34m,\u001b[0m \u001b[0mview\u001b[0m\u001b[0;34m.\u001b[0m\u001b[0mcast\u001b[0m\u001b[0;34m(\u001b[0m\u001b[0;34m\"B\"\u001b[0m\u001b[0;34m)\u001b[0m \u001b[0;32mas\u001b[0m \u001b[0mbyte_view\u001b[0m\u001b[0;34m:\u001b[0m\u001b[0;34m\u001b[0m\u001b[0;34m\u001b[0m\u001b[0m\n\u001b[0;32m---> 68\u001b[0;31m             \u001b[0mdata\u001b[0m \u001b[0;34m=\u001b[0m \u001b[0mself\u001b[0m\u001b[0;34m.\u001b[0m\u001b[0mread\u001b[0m\u001b[0;34m(\u001b[0m\u001b[0mlen\u001b[0m\u001b[0;34m(\u001b[0m\u001b[0mbyte_view\u001b[0m\u001b[0;34m)\u001b[0m\u001b[0;34m)\u001b[0m\u001b[0;34m\u001b[0m\u001b[0;34m\u001b[0m\u001b[0m\n\u001b[0m\u001b[1;32m     69\u001b[0m             \u001b[0mbyte_view\u001b[0m\u001b[0;34m[\u001b[0m\u001b[0;34m:\u001b[0m\u001b[0mlen\u001b[0m\u001b[0;34m(\u001b[0m\u001b[0mdata\u001b[0m\u001b[0;34m)\u001b[0m\u001b[0;34m]\u001b[0m \u001b[0;34m=\u001b[0m \u001b[0mdata\u001b[0m\u001b[0;34m\u001b[0m\u001b[0;34m\u001b[0m\u001b[0m\n\u001b[1;32m     70\u001b[0m         \u001b[0;32mreturn\u001b[0m \u001b[0mlen\u001b[0m\u001b[0;34m(\u001b[0m\u001b[0mdata\u001b[0m\u001b[0;34m)\u001b[0m\u001b[0;34m\u001b[0m\u001b[0;34m\u001b[0m\u001b[0m\n",
      "\u001b[0;32m~/anaconda3/envs/ulip/lib/python3.7/gzip.py\u001b[0m in \u001b[0;36mread\u001b[0;34m(self, size)\u001b[0m\n\u001b[1;32m    480\u001b[0m             \u001b[0mbuf\u001b[0m \u001b[0;34m=\u001b[0m \u001b[0mself\u001b[0m\u001b[0;34m.\u001b[0m\u001b[0m_fp\u001b[0m\u001b[0;34m.\u001b[0m\u001b[0mread\u001b[0m\u001b[0;34m(\u001b[0m\u001b[0mio\u001b[0m\u001b[0;34m.\u001b[0m\u001b[0mDEFAULT_BUFFER_SIZE\u001b[0m\u001b[0;34m)\u001b[0m\u001b[0;34m\u001b[0m\u001b[0;34m\u001b[0m\u001b[0m\n\u001b[1;32m    481\u001b[0m \u001b[0;34m\u001b[0m\u001b[0m\n\u001b[0;32m--> 482\u001b[0;31m             \u001b[0muncompress\u001b[0m \u001b[0;34m=\u001b[0m \u001b[0mself\u001b[0m\u001b[0;34m.\u001b[0m\u001b[0m_decompressor\u001b[0m\u001b[0;34m.\u001b[0m\u001b[0mdecompress\u001b[0m\u001b[0;34m(\u001b[0m\u001b[0mbuf\u001b[0m\u001b[0;34m,\u001b[0m \u001b[0msize\u001b[0m\u001b[0;34m)\u001b[0m\u001b[0;34m\u001b[0m\u001b[0;34m\u001b[0m\u001b[0m\n\u001b[0m\u001b[1;32m    483\u001b[0m             \u001b[0;32mif\u001b[0m \u001b[0mself\u001b[0m\u001b[0;34m.\u001b[0m\u001b[0m_decompressor\u001b[0m\u001b[0;34m.\u001b[0m\u001b[0munconsumed_tail\u001b[0m \u001b[0;34m!=\u001b[0m \u001b[0;34mb\"\"\u001b[0m\u001b[0;34m:\u001b[0m\u001b[0;34m\u001b[0m\u001b[0;34m\u001b[0m\u001b[0m\n\u001b[1;32m    484\u001b[0m                 \u001b[0mself\u001b[0m\u001b[0;34m.\u001b[0m\u001b[0m_fp\u001b[0m\u001b[0;34m.\u001b[0m\u001b[0mprepend\u001b[0m\u001b[0;34m(\u001b[0m\u001b[0mself\u001b[0m\u001b[0;34m.\u001b[0m\u001b[0m_decompressor\u001b[0m\u001b[0;34m.\u001b[0m\u001b[0munconsumed_tail\u001b[0m\u001b[0;34m)\u001b[0m\u001b[0;34m\u001b[0m\u001b[0;34m\u001b[0m\u001b[0m\n",
      "\u001b[0;31mKeyboardInterrupt\u001b[0m: "
     ]
    }
   ],
   "source": [
    "# Define path to NIfTI files\n",
    "path = 'ADAM_features/Unique_Subjects'\n",
    "\n",
    "# Initialize variables to store min and max dimensions\n",
    "min_width, min_height, min_depth = float('inf'), float('inf'), float('inf')\n",
    "max_width, max_height, max_depth = float('-inf'), float('-inf'), float('-inf')\n",
    "\n",
    "# Loop over all NIfTI files in the directory\n",
    "for filename in os.listdir(path):\n",
    "    if filename.endswith('.nii.gz'):\n",
    "        file_path = os.path.join(path, filename)\n",
    "        img = nib.load(file_path)\n",
    "        data = img.get_fdata()\n",
    "        print(f\"File: {filename}, Shape: {data.shape}\")\n",
    "\n",
    "        width, height, depth = data.shape\n",
    "        min_width, max_width = min(min_width, width), max(max_width, width)\n",
    "        min_height, max_height = min(\n",
    "            min_height, height), max(max_height, height)\n",
    "        min_depth, max_depth = min(min_depth, depth), max(max_depth, depth)\n",
    "\n",
    "print(\"\\nDimension statistics:\")\n",
    "print(f\"Min Width: {min_width}, Max Width: {max_width}\")\n",
    "print(f\"Min Height: {min_height}, Max Height: {max_height}\")\n",
    "print(f\"Min Depth: {min_depth}, Max Depth: {max_depth}\")\n"
   ]
  },
  {
   "cell_type": "code",
   "execution_count": 16,
   "metadata": {},
   "outputs": [
    {
     "name": "stdout",
     "output_type": "stream",
     "text": [
      "[0. 1.]\n",
      "File: aneurysms_10028.nii.gz, Shape: (560, 560, 140)\n",
      "[0. 1.]\n",
      "File: aneurysms_10038.nii.gz, Shape: (560, 560, 140)\n",
      "[0. 1.]\n",
      "File: aneurysms_10040.nii.gz, Shape: (560, 560, 140)\n",
      "[0. 1.]\n",
      "File: aneurysms_10026.nii.gz, Shape: (1024, 1024, 160)\n",
      "[0. 1.]\n",
      "File: aneurysms_10024.nii.gz, Shape: (560, 560, 140)\n",
      "[0. 1. 2.]\n",
      "File: aneurysms_10027.nii.gz, Shape: (560, 560, 140)\n",
      "[0. 1.]\n",
      "File: aneurysms_10037.nii.gz, Shape: (256, 256, 100)\n",
      "[0. 1.]\n",
      "File: aneurysms_10023.nii.gz, Shape: (528, 528, 120)\n",
      "[0. 1.]\n",
      "File: aneurysms_10039.nii.gz, Shape: (512, 512, 140)\n",
      "[0. 1.]\n",
      "File: aneurysms_10031.nii.gz, Shape: (512, 512, 98)\n",
      "[0. 1.]\n",
      "File: aneurysms_10030.nii.gz, Shape: (512, 512, 100)\n",
      "[0. 1.]\n",
      "File: aneurysms_10021.nii.gz, Shape: (560, 560, 140)\n",
      "[0. 1.]\n",
      "File: aneurysms_10032.nii.gz, Shape: (512, 512, 140)\n",
      "[0. 1.]\n",
      "File: aneurysms_10033.nii.gz, Shape: (560, 560, 140)\n",
      "[0. 1.]\n",
      "File: aneurysms_10043.nii.gz, Shape: (560, 560, 140)\n",
      "[0. 1.]\n",
      "File: aneurysms_10034.nii.gz, Shape: (560, 560, 140)\n",
      "[0. 1.]\n",
      "File: aneurysms_10025.nii.gz, Shape: (560, 560, 140)\n",
      "[0. 1.]\n",
      "File: aneurysms_10022.nii.gz, Shape: (560, 560, 140)\n",
      "[0. 1.]\n",
      "File: aneurysms_10041.nii.gz, Shape: (560, 560, 180)\n",
      "[0. 1.]\n",
      "File: aneurysms_10035.nii.gz, Shape: (512, 512, 140)\n",
      "[0. 1.]\n",
      "File: aneurysms_10029.nii.gz, Shape: (512, 512, 100)\n",
      "[0. 1.]\n",
      "File: aneurysms_10042.nii.gz, Shape: (560, 560, 140)\n",
      "[0. 1.]\n",
      "File: aneurysms_10036.nii.gz, Shape: (560, 560, 140)\n",
      "\n",
      "Dimension statistics:\n",
      "Min Width: 256, Max Width: 1024\n",
      "Min Height: 256, Max Height: 1024\n",
      "Min Depth: 98, Max Depth: 180\n"
     ]
    }
   ],
   "source": [
    "# Define path to NIfTI files\n",
    "path = 'ADAM_labels/Unique_Subjects'\n",
    "\n",
    "# Initialize variables to store min and max dimensions\n",
    "min_width, min_height, min_depth = float('inf'), float('inf'), float('inf')\n",
    "max_width, max_height, max_depth = float('-inf'), float('-inf'), float('-inf')\n",
    "\n",
    "# Loop over all NIfTI files in the directory\n",
    "for filename in os.listdir(path):\n",
    "    if filename.endswith('.nii.gz'):\n",
    "        file_path = os.path.join(path, filename)\n",
    "        img = nib.load(file_path)\n",
    "        data = img.get_fdata()\n",
    "        print(np.unique(data))\n",
    "        print(f\"File: {filename}, Shape: {data.shape}\")\n",
    "\n",
    "        width, height, depth = data.shape\n",
    "        min_width, max_width = min(min_width, width), max(max_width, width)\n",
    "        min_height, max_height = min(\n",
    "            min_height, height), max(max_height, height)\n",
    "        min_depth, max_depth = min(min_depth, depth), max(max_depth, depth)\n",
    "\n",
    "print(\"\\nDimension statistics:\")\n",
    "print(f\"Min Width: {min_width}, Max Width: {max_width}\")\n",
    "print(f\"Min Height: {min_height}, Max Height: {max_height}\")\n",
    "print(f\"Min Depth: {min_depth}, Max Depth: {max_depth}\")\n"
   ]
  },
  {
   "cell_type": "markdown",
   "metadata": {},
   "source": [
    "# Fix Labels, non-zeros --> 1, zeros --> 0"
   ]
  },
  {
   "cell_type": "code",
   "execution_count": 2,
   "metadata": {},
   "outputs": [
    {
     "name": "stdout",
     "output_type": "stream",
     "text": [
      "[0. 1.]\n",
      "Processed File: aneurysms_10028.nii.gz, Shape: (560, 560, 140)\n",
      "Saved to ADAM_labels_fixed/Unique_Subjects/aneurysms_10028.nii.gz\n",
      "[0. 1.]\n",
      "Processed File: aneurysms_10038.nii.gz, Shape: (560, 560, 140)\n",
      "Saved to ADAM_labels_fixed/Unique_Subjects/aneurysms_10038.nii.gz\n",
      "[0. 1.]\n",
      "Processed File: aneurysms_10040.nii.gz, Shape: (560, 560, 140)\n",
      "Saved to ADAM_labels_fixed/Unique_Subjects/aneurysms_10040.nii.gz\n",
      "[0. 1.]\n",
      "Processed File: aneurysms_10026.nii.gz, Shape: (1024, 1024, 160)\n",
      "Saved to ADAM_labels_fixed/Unique_Subjects/aneurysms_10026.nii.gz\n",
      "[0. 1.]\n",
      "Processed File: aneurysms_10024.nii.gz, Shape: (560, 560, 140)\n",
      "Saved to ADAM_labels_fixed/Unique_Subjects/aneurysms_10024.nii.gz\n",
      "[0. 1.]\n",
      "Processed File: aneurysms_10027.nii.gz, Shape: (560, 560, 140)\n",
      "Saved to ADAM_labels_fixed/Unique_Subjects/aneurysms_10027.nii.gz\n",
      "[0. 1.]\n",
      "Processed File: aneurysms_10037.nii.gz, Shape: (256, 256, 100)\n",
      "Saved to ADAM_labels_fixed/Unique_Subjects/aneurysms_10037.nii.gz\n",
      "[0. 1.]\n",
      "Processed File: aneurysms_10023.nii.gz, Shape: (528, 528, 120)\n",
      "Saved to ADAM_labels_fixed/Unique_Subjects/aneurysms_10023.nii.gz\n",
      "[0. 1.]\n",
      "Processed File: aneurysms_10039.nii.gz, Shape: (512, 512, 140)\n",
      "Saved to ADAM_labels_fixed/Unique_Subjects/aneurysms_10039.nii.gz\n",
      "[0. 1.]\n",
      "Processed File: aneurysms_10031.nii.gz, Shape: (512, 512, 98)\n",
      "Saved to ADAM_labels_fixed/Unique_Subjects/aneurysms_10031.nii.gz\n",
      "[0. 1.]\n",
      "Processed File: aneurysms_10030.nii.gz, Shape: (512, 512, 100)\n",
      "Saved to ADAM_labels_fixed/Unique_Subjects/aneurysms_10030.nii.gz\n",
      "[0. 1.]\n",
      "Processed File: aneurysms_10021.nii.gz, Shape: (560, 560, 140)\n",
      "Saved to ADAM_labels_fixed/Unique_Subjects/aneurysms_10021.nii.gz\n",
      "[0. 1.]\n",
      "Processed File: aneurysms_10032.nii.gz, Shape: (512, 512, 140)\n",
      "Saved to ADAM_labels_fixed/Unique_Subjects/aneurysms_10032.nii.gz\n",
      "[0. 1.]\n",
      "Processed File: aneurysms_10033.nii.gz, Shape: (560, 560, 140)\n",
      "Saved to ADAM_labels_fixed/Unique_Subjects/aneurysms_10033.nii.gz\n",
      "[0. 1.]\n",
      "Processed File: aneurysms_10043.nii.gz, Shape: (560, 560, 140)\n",
      "Saved to ADAM_labels_fixed/Unique_Subjects/aneurysms_10043.nii.gz\n",
      "[0. 1.]\n",
      "Processed File: aneurysms_10034.nii.gz, Shape: (560, 560, 140)\n",
      "Saved to ADAM_labels_fixed/Unique_Subjects/aneurysms_10034.nii.gz\n",
      "[0. 1.]\n",
      "Processed File: aneurysms_10025.nii.gz, Shape: (560, 560, 140)\n",
      "Saved to ADAM_labels_fixed/Unique_Subjects/aneurysms_10025.nii.gz\n",
      "[0. 1.]\n",
      "Processed File: aneurysms_10022.nii.gz, Shape: (560, 560, 140)\n",
      "Saved to ADAM_labels_fixed/Unique_Subjects/aneurysms_10022.nii.gz\n",
      "[0. 1.]\n",
      "Processed File: aneurysms_10041.nii.gz, Shape: (560, 560, 180)\n",
      "Saved to ADAM_labels_fixed/Unique_Subjects/aneurysms_10041.nii.gz\n",
      "[0. 1.]\n",
      "Processed File: aneurysms_10035.nii.gz, Shape: (512, 512, 140)\n",
      "Saved to ADAM_labels_fixed/Unique_Subjects/aneurysms_10035.nii.gz\n",
      "[0. 1.]\n",
      "Processed File: aneurysms_10029.nii.gz, Shape: (512, 512, 100)\n",
      "Saved to ADAM_labels_fixed/Unique_Subjects/aneurysms_10029.nii.gz\n",
      "[0. 1.]\n",
      "Processed File: aneurysms_10042.nii.gz, Shape: (560, 560, 140)\n",
      "Saved to ADAM_labels_fixed/Unique_Subjects/aneurysms_10042.nii.gz\n",
      "[0. 1.]\n",
      "Processed File: aneurysms_10036.nii.gz, Shape: (560, 560, 140)\n",
      "Saved to ADAM_labels_fixed/Unique_Subjects/aneurysms_10036.nii.gz\n"
     ]
    }
   ],
   "source": [
    "import os\n",
    "import numpy as np\n",
    "import nibabel as nib\n",
    "\n",
    "# Define path to NIfTI files\n",
    "input_path = 'ADAM_labels/Unique_Subjects'\n",
    "output_path = 'ADAM_labels_fixed/Unique_Subjects'\n",
    "\n",
    "# Create the output directory if it does not exist\n",
    "if not os.path.exists(output_path):\n",
    "    os.makedirs(output_path)\n",
    "\n",
    "# Loop over all NIfTI files in the directory\n",
    "for filename in os.listdir(input_path):\n",
    "    if filename.endswith('.nii.gz'):\n",
    "        input_file_path = os.path.join(input_path, filename)\n",
    "        img = nib.load(input_file_path)\n",
    "        data = img.get_fdata()\n",
    "\n",
    "        # Map all non-zero values to 1 and zero values to 0\n",
    "        data[data != 0] = 1\n",
    "\n",
    "        # Log the unique values after mapping\n",
    "        print(np.unique(data))\n",
    "        print(f\"Processed File: {filename}, Shape: {data.shape}\")\n",
    "\n",
    "        # Create a new NIfTI image object with updated data\n",
    "        new_img = nib.Nifti1Image(data, img.affine, img.header)\n",
    "\n",
    "        # Save the new NIfTI file to the output folder\n",
    "        output_file_path = os.path.join(output_path, filename)\n",
    "        nib.save(new_img, output_file_path)\n",
    "        print(f\"Saved to {output_file_path}\")\n"
   ]
  },
  {
   "cell_type": "code",
   "execution_count": 3,
   "metadata": {},
   "outputs": [
    {
     "name": "stdout",
     "output_type": "stream",
     "text": [
      "[0. 1.]\n",
      "Processed File: aneurysms_10071B.nii.gz, Shape: (256, 256, 100)\n",
      "Saved to ADAM_labels_fixed/Baseline_Subjects/aneurysms_10071B.nii.gz\n",
      "[0. 1.]\n",
      "Processed File: aneurysms_10058B.nii.gz, Shape: (512, 512, 100)\n",
      "Saved to ADAM_labels_fixed/Baseline_Subjects/aneurysms_10058B.nii.gz\n",
      "[0. 1.]\n",
      "Processed File: aneurysms_10052B.nii.gz, Shape: (512, 512, 140)\n",
      "Saved to ADAM_labels_fixed/Baseline_Subjects/aneurysms_10052B.nii.gz\n",
      "[0. 1.]\n",
      "Processed File: aneurysms_10062B.nii.gz, Shape: (512, 512, 138)\n",
      "Saved to ADAM_labels_fixed/Baseline_Subjects/aneurysms_10062B.nii.gz\n",
      "[0. 1.]\n",
      "Processed File: aneurysms_10072B.nii.gz, Shape: (1024, 1024, 160)\n",
      "Saved to ADAM_labels_fixed/Baseline_Subjects/aneurysms_10072B.nii.gz\n",
      "[0. 1.]\n",
      "Processed File: aneurysms_10059B.nii.gz, Shape: (256, 256, 100)\n",
      "Saved to ADAM_labels_fixed/Baseline_Subjects/aneurysms_10059B.nii.gz\n",
      "[0. 1.]\n",
      "Processed File: aneurysms_10060B.nii.gz, Shape: (1024, 1024, 160)\n",
      "Saved to ADAM_labels_fixed/Baseline_Subjects/aneurysms_10060B.nii.gz\n",
      "[0. 1.]\n",
      "Processed File: aneurysms_10046B.nii.gz, Shape: (512, 512, 140)\n",
      "Saved to ADAM_labels_fixed/Baseline_Subjects/aneurysms_10046B.nii.gz\n",
      "[0. 1.]\n",
      "Processed File: aneurysms_10061B.nii.gz, Shape: (512, 512, 100)\n",
      "Saved to ADAM_labels_fixed/Baseline_Subjects/aneurysms_10061B.nii.gz\n",
      "[0. 1.]\n",
      "Processed File: aneurysms_10051B.nii.gz, Shape: (512, 512, 140)\n",
      "Saved to ADAM_labels_fixed/Baseline_Subjects/aneurysms_10051B.nii.gz\n",
      "[0. 1.]\n",
      "Processed File: aneurysms_10074B.nii.gz, Shape: (512, 512, 100)\n",
      "Saved to ADAM_labels_fixed/Baseline_Subjects/aneurysms_10074B.nii.gz\n",
      "[0. 1.]\n",
      "Processed File: aneurysms_10045B.nii.gz, Shape: (512, 512, 100)\n",
      "Saved to ADAM_labels_fixed/Baseline_Subjects/aneurysms_10045B.nii.gz\n",
      "[0. 1.]\n",
      "Processed File: aneurysms_10057B.nii.gz, Shape: (512, 512, 138)\n",
      "Saved to ADAM_labels_fixed/Baseline_Subjects/aneurysms_10057B.nii.gz\n",
      "[0. 1.]\n",
      "Processed File: aneurysms_10067B.nii.gz, Shape: (512, 512, 140)\n",
      "Saved to ADAM_labels_fixed/Baseline_Subjects/aneurysms_10067B.nii.gz\n",
      "[0. 1.]\n",
      "Processed File: aneurysms_10053B.nii.gz, Shape: (1024, 1024, 160)\n",
      "Saved to ADAM_labels_fixed/Baseline_Subjects/aneurysms_10053B.nii.gz\n",
      "[0. 1.]\n",
      "Processed File: aneurysms_10055B.nii.gz, Shape: (512, 512, 140)\n",
      "Saved to ADAM_labels_fixed/Baseline_Subjects/aneurysms_10055B.nii.gz\n",
      "[0. 1.]\n",
      "Processed File: aneurysms_10048B.nii.gz, Shape: (512, 512, 100)\n",
      "Saved to ADAM_labels_fixed/Baseline_Subjects/aneurysms_10048B.nii.gz\n",
      "[0. 1.]\n",
      "Processed File: aneurysms_10049B.nii.gz, Shape: (512, 512, 138)\n",
      "Saved to ADAM_labels_fixed/Baseline_Subjects/aneurysms_10049B.nii.gz\n",
      "[0. 1.]\n",
      "Processed File: aneurysms_10078B.nii.gz, Shape: (512, 512, 64)\n",
      "Saved to ADAM_labels_fixed/Baseline_Subjects/aneurysms_10078B.nii.gz\n",
      "[0. 1.]\n",
      "Processed File: aneurysms_10068B.nii.gz, Shape: (512, 512, 100)\n",
      "Saved to ADAM_labels_fixed/Baseline_Subjects/aneurysms_10068B.nii.gz\n",
      "[0. 1.]\n",
      "Processed File: aneurysms_10056B.nii.gz, Shape: (256, 256, 100)\n",
      "Saved to ADAM_labels_fixed/Baseline_Subjects/aneurysms_10056B.nii.gz\n",
      "[0. 1.]\n",
      "Processed File: aneurysms_10064B.nii.gz, Shape: (512, 512, 138)\n",
      "Saved to ADAM_labels_fixed/Baseline_Subjects/aneurysms_10064B.nii.gz\n",
      "[0. 1.]\n",
      "Processed File: aneurysms_10077B.nii.gz, Shape: (512, 512, 140)\n",
      "Saved to ADAM_labels_fixed/Baseline_Subjects/aneurysms_10077B.nii.gz\n",
      "[0. 1.]\n",
      "Processed File: aneurysms_10054B.nii.gz, Shape: (512, 512, 100)\n",
      "Saved to ADAM_labels_fixed/Baseline_Subjects/aneurysms_10054B.nii.gz\n",
      "[0. 1.]\n",
      "Processed File: aneurysms_10044B.nii.gz, Shape: (512, 512, 100)\n",
      "Saved to ADAM_labels_fixed/Baseline_Subjects/aneurysms_10044B.nii.gz\n",
      "[0. 1.]\n",
      "Processed File: aneurysms_10063B.nii.gz, Shape: (560, 560, 180)\n",
      "Saved to ADAM_labels_fixed/Baseline_Subjects/aneurysms_10063B.nii.gz\n",
      "[0. 1.]\n",
      "Processed File: aneurysms_10073B.nii.gz, Shape: (528, 528, 120)\n",
      "Saved to ADAM_labels_fixed/Baseline_Subjects/aneurysms_10073B.nii.gz\n",
      "[0. 1.]\n",
      "Processed File: aneurysms_10066B.nii.gz, Shape: (512, 512, 100)\n",
      "Saved to ADAM_labels_fixed/Baseline_Subjects/aneurysms_10066B.nii.gz\n",
      "[0. 1.]\n",
      "Processed File: aneurysms_10075B.nii.gz, Shape: (512, 512, 100)\n",
      "Saved to ADAM_labels_fixed/Baseline_Subjects/aneurysms_10075B.nii.gz\n",
      "[0. 1.]\n",
      "Processed File: aneurysms_10065B.nii.gz, Shape: (512, 512, 102)\n",
      "Saved to ADAM_labels_fixed/Baseline_Subjects/aneurysms_10065B.nii.gz\n",
      "[0. 1.]\n",
      "Processed File: aneurysms_10047B.nii.gz, Shape: (512, 512, 138)\n",
      "Saved to ADAM_labels_fixed/Baseline_Subjects/aneurysms_10047B.nii.gz\n",
      "[0. 1.]\n",
      "Processed File: aneurysms_10069B.nii.gz, Shape: (512, 512, 140)\n",
      "Saved to ADAM_labels_fixed/Baseline_Subjects/aneurysms_10069B.nii.gz\n",
      "[0. 1.]\n",
      "Processed File: aneurysms_10050B.nii.gz, Shape: (512, 512, 100)\n",
      "Saved to ADAM_labels_fixed/Baseline_Subjects/aneurysms_10050B.nii.gz\n",
      "[0. 1.]\n",
      "Processed File: aneurysms_10076B.nii.gz, Shape: (512, 512, 138)\n",
      "Saved to ADAM_labels_fixed/Baseline_Subjects/aneurysms_10076B.nii.gz\n",
      "[0. 1.]\n",
      "Processed File: aneurysms_10070B.nii.gz, Shape: (512, 512, 100)\n",
      "Saved to ADAM_labels_fixed/Baseline_Subjects/aneurysms_10070B.nii.gz\n"
     ]
    }
   ],
   "source": [
    "import os\n",
    "import numpy as np\n",
    "import nibabel as nib\n",
    "\n",
    "# Define path to NIfTI files\n",
    "input_path = 'ADAM_labels/Baseline_Subjects'\n",
    "output_path = 'ADAM_labels_fixed/Baseline_Subjects'\n",
    "\n",
    "# Create the output directory if it does not exist\n",
    "if not os.path.exists(output_path):\n",
    "    os.makedirs(output_path)\n",
    "\n",
    "# Loop over all NIfTI files in the directory\n",
    "for filename in os.listdir(input_path):\n",
    "    if filename.endswith('.nii.gz'):\n",
    "        input_file_path = os.path.join(input_path, filename)\n",
    "        img = nib.load(input_file_path)\n",
    "        data = img.get_fdata()\n",
    "\n",
    "        # Map all non-zero values to 1 and zero values to 0\n",
    "        data[data != 0] = 1\n",
    "\n",
    "        # Log the unique values after mapping\n",
    "        print(np.unique(data))\n",
    "        print(f\"Processed File: {filename}, Shape: {data.shape}\")\n",
    "\n",
    "        # Create a new NIfTI image object with updated data\n",
    "        new_img = nib.Nifti1Image(data, img.affine, img.header)\n",
    "\n",
    "        # Save the new NIfTI file to the output folder\n",
    "        output_file_path = os.path.join(output_path, filename)\n",
    "        nib.save(new_img, output_file_path)\n",
    "        print(f\"Saved to {output_file_path}\")\n"
   ]
  },
  {
   "cell_type": "code",
   "execution_count": 4,
   "metadata": {},
   "outputs": [
    {
     "name": "stdout",
     "output_type": "stream",
     "text": [
      "[0. 1.]\n",
      "Processed File: aneurysms_10049F.nii.gz, Shape: (560, 560, 140)\n",
      "Saved to ADAM_labels_fixed/Followup_Subjects/aneurysms_10049F.nii.gz\n",
      "[0. 1.]\n",
      "Processed File: aneurysms_10054F.nii.gz, Shape: (512, 512, 140)\n",
      "Saved to ADAM_labels_fixed/Followup_Subjects/aneurysms_10054F.nii.gz\n",
      "[0. 1.]\n",
      "Processed File: aneurysms_10050F.nii.gz, Shape: (512, 512, 138)\n",
      "Saved to ADAM_labels_fixed/Followup_Subjects/aneurysms_10050F.nii.gz\n",
      "[0. 1.]\n",
      "Processed File: aneurysms_10063F.nii.gz, Shape: (560, 560, 140)\n",
      "Saved to ADAM_labels_fixed/Followup_Subjects/aneurysms_10063F.nii.gz\n",
      "[0. 1.]\n",
      "Processed File: aneurysms_10078F.nii.gz, Shape: (560, 560, 140)\n",
      "Saved to ADAM_labels_fixed/Followup_Subjects/aneurysms_10078F.nii.gz\n",
      "[0. 1.]\n",
      "Processed File: aneurysms_10077F.nii.gz, Shape: (560, 560, 140)\n",
      "Saved to ADAM_labels_fixed/Followup_Subjects/aneurysms_10077F.nii.gz\n",
      "[0. 1.]\n",
      "Processed File: aneurysms_10067F.nii.gz, Shape: (560, 560, 140)\n",
      "Saved to ADAM_labels_fixed/Followup_Subjects/aneurysms_10067F.nii.gz\n",
      "[0. 1.]\n",
      "Processed File: aneurysms_10056F.nii.gz, Shape: (560, 560, 140)\n",
      "Saved to ADAM_labels_fixed/Followup_Subjects/aneurysms_10056F.nii.gz\n",
      "[0. 1.]\n",
      "Processed File: aneurysms_10068F.nii.gz, Shape: (1024, 1024, 160)\n",
      "Saved to ADAM_labels_fixed/Followup_Subjects/aneurysms_10068F.nii.gz\n",
      "[0. 1.]\n",
      "Processed File: aneurysms_10064F.nii.gz, Shape: (560, 560, 140)\n",
      "Saved to ADAM_labels_fixed/Followup_Subjects/aneurysms_10064F.nii.gz\n",
      "[0. 1.]\n",
      "Processed File: aneurysms_10071F.nii.gz, Shape: (560, 560, 140)\n",
      "Saved to ADAM_labels_fixed/Followup_Subjects/aneurysms_10071F.nii.gz\n",
      "[0. 1.]\n",
      "Processed File: aneurysms_10060F.nii.gz, Shape: (512, 512, 140)\n",
      "Saved to ADAM_labels_fixed/Followup_Subjects/aneurysms_10060F.nii.gz\n",
      "[0. 1.]\n",
      "Processed File: aneurysms_10045F.nii.gz, Shape: (512, 512, 140)\n",
      "Saved to ADAM_labels_fixed/Followup_Subjects/aneurysms_10045F.nii.gz\n",
      "[0. 1.]\n",
      "Processed File: aneurysms_10073F.nii.gz, Shape: (512, 512, 140)\n",
      "Saved to ADAM_labels_fixed/Followup_Subjects/aneurysms_10073F.nii.gz\n",
      "[0. 1.]\n",
      "Processed File: aneurysms_10052F.nii.gz, Shape: (512, 512, 160)\n",
      "Saved to ADAM_labels_fixed/Followup_Subjects/aneurysms_10052F.nii.gz\n",
      "[0. 1.]\n",
      "Processed File: aneurysms_10061F.nii.gz, Shape: (512, 512, 140)\n",
      "Saved to ADAM_labels_fixed/Followup_Subjects/aneurysms_10061F.nii.gz\n",
      "[0. 1.]\n",
      "Processed File: aneurysms_10053F.nii.gz, Shape: (560, 560, 140)\n",
      "Saved to ADAM_labels_fixed/Followup_Subjects/aneurysms_10053F.nii.gz\n",
      "[0. 1.]\n",
      "Processed File: aneurysms_10058F.nii.gz, Shape: (512, 512, 138)\n",
      "Saved to ADAM_labels_fixed/Followup_Subjects/aneurysms_10058F.nii.gz\n",
      "[0. 1.]\n",
      "Processed File: aneurysms_10044F.nii.gz, Shape: (512, 512, 140)\n",
      "Saved to ADAM_labels_fixed/Followup_Subjects/aneurysms_10044F.nii.gz\n",
      "[0. 1.]\n",
      "Processed File: aneurysms_10055F.nii.gz, Shape: (512, 512, 140)\n",
      "Saved to ADAM_labels_fixed/Followup_Subjects/aneurysms_10055F.nii.gz\n",
      "[0. 1.]\n",
      "Processed File: aneurysms_10048F.nii.gz, Shape: (560, 560, 150)\n",
      "Saved to ADAM_labels_fixed/Followup_Subjects/aneurysms_10048F.nii.gz\n",
      "[0. 1.]\n",
      "Processed File: aneurysms_10047F.nii.gz, Shape: (512, 512, 98)\n",
      "Saved to ADAM_labels_fixed/Followup_Subjects/aneurysms_10047F.nii.gz\n",
      "[0. 1.]\n",
      "Processed File: aneurysms_10076F.nii.gz, Shape: (1024, 1024, 160)\n",
      "Saved to ADAM_labels_fixed/Followup_Subjects/aneurysms_10076F.nii.gz\n",
      "[0. 1.]\n",
      "Processed File: aneurysms_10070F.nii.gz, Shape: (560, 560, 140)\n",
      "Saved to ADAM_labels_fixed/Followup_Subjects/aneurysms_10070F.nii.gz\n",
      "[0. 1.]\n",
      "Processed File: aneurysms_10046F.nii.gz, Shape: (560, 560, 140)\n",
      "Saved to ADAM_labels_fixed/Followup_Subjects/aneurysms_10046F.nii.gz\n",
      "[0. 1.]\n",
      "Processed File: aneurysms_10072F.nii.gz, Shape: (512, 512, 138)\n",
      "Saved to ADAM_labels_fixed/Followup_Subjects/aneurysms_10072F.nii.gz\n",
      "[0. 1.]\n",
      "Processed File: aneurysms_10059F.nii.gz, Shape: (1024, 1024, 160)\n",
      "Saved to ADAM_labels_fixed/Followup_Subjects/aneurysms_10059F.nii.gz\n",
      "[0. 1.]\n",
      "Processed File: aneurysms_10062F.nii.gz, Shape: (512, 512, 140)\n",
      "Saved to ADAM_labels_fixed/Followup_Subjects/aneurysms_10062F.nii.gz\n",
      "[0. 1.]\n",
      "Processed File: aneurysms_10074F.nii.gz, Shape: (560, 560, 140)\n",
      "Saved to ADAM_labels_fixed/Followup_Subjects/aneurysms_10074F.nii.gz\n",
      "[0. 1.]\n",
      "Processed File: aneurysms_10075F.nii.gz, Shape: (512, 512, 138)\n",
      "Saved to ADAM_labels_fixed/Followup_Subjects/aneurysms_10075F.nii.gz\n",
      "[0. 1.]\n",
      "Processed File: aneurysms_10069F.nii.gz, Shape: (560, 560, 140)\n",
      "Saved to ADAM_labels_fixed/Followup_Subjects/aneurysms_10069F.nii.gz\n",
      "[0. 1.]\n",
      "Processed File: aneurysms_10051F.nii.gz, Shape: (560, 560, 140)\n",
      "Saved to ADAM_labels_fixed/Followup_Subjects/aneurysms_10051F.nii.gz\n",
      "[0. 1.]\n",
      "Processed File: aneurysms_10065F.nii.gz, Shape: (512, 512, 65)\n",
      "Saved to ADAM_labels_fixed/Followup_Subjects/aneurysms_10065F.nii.gz\n",
      "[0. 1.]\n",
      "Processed File: aneurysms_10066F.nii.gz, Shape: (512, 512, 138)\n",
      "Saved to ADAM_labels_fixed/Followup_Subjects/aneurysms_10066F.nii.gz\n",
      "[0. 1.]\n",
      "Processed File: aneurysms_10057F.nii.gz, Shape: (560, 560, 140)\n",
      "Saved to ADAM_labels_fixed/Followup_Subjects/aneurysms_10057F.nii.gz\n"
     ]
    }
   ],
   "source": [
    "import os\n",
    "import numpy as np\n",
    "import nibabel as nib\n",
    "\n",
    "# Define path to NIfTI files\n",
    "input_path = 'ADAM_labels/Followup_Subjects'\n",
    "output_path = 'ADAM_labels_fixed/Followup_Subjects'\n",
    "\n",
    "# Create the output directory if it does not exist\n",
    "if not os.path.exists(output_path):\n",
    "    os.makedirs(output_path)\n",
    "\n",
    "# Loop over all NIfTI files in the directory\n",
    "for filename in os.listdir(input_path):\n",
    "    if filename.endswith('.nii.gz'):\n",
    "        input_file_path = os.path.join(input_path, filename)\n",
    "        img = nib.load(input_file_path)\n",
    "        data = img.get_fdata()\n",
    "\n",
    "        # Map all non-zero values to 1 and zero values to 0\n",
    "        data[data != 0] = 1\n",
    "\n",
    "        # Log the unique values after mapping\n",
    "        print(np.unique(data))\n",
    "        print(f\"Processed File: {filename}, Shape: {data.shape}\")\n",
    "\n",
    "        # Create a new NIfTI image object with updated data\n",
    "        new_img = nib.Nifti1Image(data, img.affine, img.header)\n",
    "\n",
    "        # Save the new NIfTI file to the output folder\n",
    "        output_file_path = os.path.join(output_path, filename)\n",
    "        nib.save(new_img, output_file_path)\n",
    "        print(f\"Saved to {output_file_path}\")\n"
   ]
  },
  {
   "cell_type": "code",
   "execution_count": null,
   "metadata": {},
   "outputs": [],
   "source": []
  },
  {
   "cell_type": "markdown",
   "metadata": {},
   "source": [
    "# Dataset"
   ]
  },
  {
   "cell_type": "code",
   "execution_count": 3,
   "metadata": {},
   "outputs": [],
   "source": [
    "\n",
    "\n",
    "\n",
    "class CustomADAMDataset(Dataset):\n",
    "    def __init__(self, feature_folder, label_folder, desired_shape=(128, 128, 64)):\n",
    "        self.feature_files = sorted(\n",
    "            [os.path.join(feature_folder, f) for f in os.listdir(feature_folder)])\n",
    "        self.label_files = sorted([os.path.join(label_folder, f)\n",
    "                                  for f in os.listdir(label_folder)])\n",
    "        self.desired_shape = desired_shape\n",
    "\n",
    "    def __len__(self):\n",
    "        return len(self.feature_files)\n",
    "\n",
    "    def __getitem__(self, idx):\n",
    "        # Load and process the feature (e.g., MRI) .nii.gz file\n",
    "      feature_path = self.feature_files[idx]\n",
    "\n",
    "      feature_nii = nib.load(feature_path)\n",
    "      feature_data = feature_nii.get_fdata()\n",
    "\n",
    "      # Load and process the label (segmentation mask) .nii.gz file\n",
    "      label_path = self.label_files[idx]\n",
    "      label_nii = nib.load(label_path)\n",
    "      label_data = label_nii.get_fdata()\n",
    "      \n",
    "\n",
    "      # Compute the start and end indices for slicing the depth dimension\n",
    "      start_idx, end_idx = compute_slice_indices(\n",
    "          self.desired_shape[2], feature_data.shape[2])\n",
    "\n",
    "      feature_data = feature_data[:, :, start_idx:end_idx]\n",
    "      label_data = label_data[:, :, start_idx:end_idx]\n",
    "\n",
    "      # Compute zoom factors\n",
    "      zoom_factors = (self.desired_shape[0] / feature_data.shape[0],\n",
    "                      self.desired_shape[1] / feature_data.shape[1], 1)\n",
    "\n",
    "      # Rescale the feature and label data using nearest-neighbor interpolation\n",
    "      feature_data_rescaled = zoom(feature_data, zoom_factors, order=0)  # Nearest-neighbor\n",
    "      label_data_rescaled = zoom(label_data, zoom_factors, order=0)      # Nearest-neighbor\n",
    "\n",
    "      # Convert to PyTorch tensors\n",
    "      feature_tensor = torch.tensor(feature_data_rescaled).float()\n",
    "      label_tensor = torch.tensor(label_data_rescaled).float()\n",
    "      \n",
    "      feature_tensor = feature_tensor.permute(1, 0, 2)\n",
    "      label_tensor = label_tensor.permute(1, 0, 2)\n",
    "      \n",
    "      # Add single channel dimension\n",
    "      feature_tensor = torch.unsqueeze(feature_tensor, dim=0)\n",
    "      label_tensor = torch.unsqueeze(label_tensor, dim=0)\n",
    "      \n",
    "      return feature_tensor, label_tensor\n",
    "\n",
    "\n",
    "def compute_slice_indices(slice_num, max_idx):\n",
    "    mid_idx = max_idx // 2\n",
    "    slice_half_length = slice_num // 2\n",
    "    start_idx = mid_idx - slice_half_length\n",
    "    end_idx = mid_idx + slice_half_length\n",
    "    # Ensure indices are within valid range\n",
    "    start_idx = max(0, start_idx)\n",
    "    end_idx = min(max_idx, end_idx)\n",
    "    return start_idx, end_idx\n"
   ]
  },
  {
   "cell_type": "markdown",
   "metadata": {},
   "source": [
    "# Dataset Visualisation"
   ]
  },
  {
   "cell_type": "code",
   "execution_count": 4,
   "metadata": {},
   "outputs": [
    {
     "name": "stdout",
     "output_type": "stream",
     "text": [
      "torch.Size([1, 128, 128, 64])\n",
      "torch.Size([1, 128, 128, 64])\n",
      "tensor([0., 1.])\n"
     ]
    },
    {
     "data": {
      "image/png": "[encoded data removed]",
      "text/plain": [
       "<Figure size 640x480 with 1 Axes>"
      ]
     },
     "metadata": {},
     "output_type": "display_data"
    },
    {
     "data": {
      "image/png": "[encoded data removed]",
      "text/plain": [
       "<Figure size 640x480 with 1 Axes>"
      ]
     },
     "metadata": {},
     "output_type": "display_data"
    }
   ],
   "source": [
    "def visualize_feature_slice(dataset, index, slice_index):\n",
    "    # Get feature and label tensors\n",
    "    feature_tensor, label_tensor = dataset[index]\n",
    "\n",
    "    print(feature_tensor.shape)\n",
    "    print(label_tensor.shape)\n",
    "    print(torch.unique(label_tensor))\n",
    "    \n",
    "    feature_tensor = torch.squeeze(feature_tensor)\n",
    "    label_tensor = torch.squeeze(label_tensor)\n",
    "    \n",
    "    # Select the 2D slice at the specified index along the depth dimension\n",
    "    slice_2d = feature_tensor[:, :, slice_index].numpy()\n",
    "\n",
    "    # Plot the selected 2D slice\n",
    "    plt.imshow(slice_2d, cmap='gray')\n",
    "    plt.title(f\"Slice {slice_index} of Feature at Index {index}\")\n",
    "    plt.show()\n",
    "    \n",
    "    # Select the 2D slice at the specified index along the depth dimension\n",
    "    slice_2d = label_tensor[:, :, slice_index].numpy()\n",
    "\n",
    "    # Plot the selected 2D slice\n",
    "    plt.imshow(slice_2d, cmap='gray')\n",
    "    plt.title(f\"Slice {slice_index} of Feature at Index {index}\")\n",
    "    plt.show()\n",
    "\n",
    "\n",
    "# Create the dataset object\n",
    "feature_folder = 'ADAM_features/Baseline_Subjects'\n",
    "label_folder = 'ADAM_labels_fixed/Baseline_Subjects'\n",
    "dataset = CustomADAMDataset(feature_folder, label_folder)\n",
    "\n",
    "# Visualize a specific 2D slice (e.g., slice index 32) from a specific sample (e.g., index 5)\n",
    "index = 5\n",
    "slice_index = 10\n",
    "visualize_feature_slice(dataset, index, slice_index)\n"
   ]
  },
  {
   "cell_type": "code",
   "execution_count": null,
   "metadata": {},
   "outputs": [],
   "source": []
  },
  {
   "cell_type": "markdown",
   "metadata": {},
   "source": [
    "# ADAMDataModule"
   ]
  },
  {
   "cell_type": "code",
   "execution_count": 5,
   "metadata": {},
   "outputs": [],
   "source": [
    "import torch\n",
    "import torch.nn.functional as F\n",
    "import torchvision.datasets as datasets\n",
    "import torchvision.transforms as transforms\n",
    "from torch import nn, optim\n",
    "from torch.utils.data import DataLoader\n",
    "from torch.utils.data import random_split\n",
    "import pytorch_lightning as pl\n",
    "\n",
    "\n",
    "\n",
    "class ADAMDataModule(pl.LightningDataModule):\n",
    "    def __init__(self, batch_size, num_workers,\n",
    "                 train_feat_dir=\"ADAM_features/Baseline_Subjects\",\n",
    "                 train_label_dir=\"ADAM_labels_fixed/Baseline_Subjects\",\n",
    "                 val_feat_dir=\"ADAM_features/Followup_Subjects\",\n",
    "                 val_label_dir=\"ADAM_labels_fixed/Followup_Subjects\",\n",
    "                 test_feat_dir=\"ADAM_features/Unique_Subjects\",\n",
    "                 test_label_dir=\"ADAM_labels_fixed/Unique_Subjects\"):\n",
    "        super().__init__()\n",
    "        self.batch_size = batch_size\n",
    "        self.num_workers = num_workers\n",
    "        \n",
    "        self.train_feat_dir = train_feat_dir\n",
    "        self.train_label_dir = train_label_dir\n",
    "        self.val_feat_dir = val_feat_dir\n",
    "        self.val_label_dir = val_label_dir\n",
    "        self.test_feat_dir = test_feat_dir\n",
    "        self.test_label_dir = test_label_dir\n",
    "\n",
    "\t# Called only within a single process on CPU\n",
    "\t# Prevents data corruption in distributed settings\n",
    "    def prepare_data(self):\n",
    "        pass\n",
    "    \n",
    "\t# Data operations you might want to perform on every GPU\n",
    "    def setup(self, stage):\n",
    "        # Replace this with your normal dataset class\n",
    "        self.train_ds = CustomADAMDataset(self.train_feat_dir, self.train_label_dir)\n",
    "        self.val_ds = CustomADAMDataset(self.val_feat_dir, self.val_label_dir)\n",
    "        self.test_ds = CustomADAMDataset(self.test_feat_dir, self.test_label_dir)\n",
    "\n",
    "    def train_dataloader(self):\n",
    "        return DataLoader(\n",
    "            self.train_ds,\n",
    "            batch_size=self.batch_size,\n",
    "            num_workers=self.num_workers,\n",
    "            shuffle=True,\n",
    "        )\n",
    "\n",
    "    def val_dataloader(self):\n",
    "        return DataLoader(\n",
    "            self.val_ds,\n",
    "            batch_size=self.batch_size,\n",
    "            num_workers=self.num_workers,\n",
    "            shuffle=False,\n",
    "        )\n",
    "\n",
    "    def test_dataloader(self):\n",
    "        return DataLoader(\n",
    "            self.test_ds,\n",
    "            batch_size=self.batch_size,\n",
    "            num_workers=self.num_workers,\n",
    "            shuffle=False,\n",
    "        )\n"
   ]
  },
  {
   "cell_type": "code",
   "execution_count": 7,
   "metadata": {},
   "outputs": [],
   "source": [
    "from monai.networks.nets import UNETR\n",
    "\n",
    "IN_CHANNELS = 1\n",
    "OUT_CHANNELS = 1\n",
    "IMG_SIZE = (128, 128, 64)\n",
    "FEATURE_SIZE = 16\n",
    "HIDDEN_SIZE = 768\n",
    "MLP_DIM = 3072\n",
    "NUM_HEADS = 12\n",
    "POS_EMBED = \"perceptron\"\n",
    "NORM_NAME = \"instance\"\n",
    "RES_BLOCK = True\n",
    "DROPOUT_RATE = 0.0\n",
    "\n",
    "class UNETRSegmentation(pl.LightningModule):\n",
    "    def __init__(self, learning_rate=1e-3):\n",
    "        super(UNETRSegmentation, self).__init__()\n",
    "        self.model = UNETR(\n",
    "            in_channels=IN_CHANNELS,\n",
    "            out_channels=OUT_CHANNELS,\n",
    "            img_size=IMG_SIZE,\n",
    "            feature_size=FEATURE_SIZE,\n",
    "            hidden_size=HIDDEN_SIZE,\n",
    "            mlp_dim=MLP_DIM,\n",
    "            num_heads=NUM_HEADS,\n",
    "            pos_embed=POS_EMBED,\n",
    "            norm_name=NORM_NAME,\n",
    "            res_block=RES_BLOCK,\n",
    "            dropout_rate=DROPOUT_RATE,\n",
    "        )\n",
    "        self.learning_rate = learning_rate\n",
    "        # self.loss_fn = monai.losses.DiceCELoss(include_background=False, sigmoid=True)\n",
    "        self.loss_fn = monai.losses.DiceFocalLoss(include_background=True, sigmoid=True)\n",
    "        self.dice_metric = DiceMetric(\n",
    "            include_background=False, reduction=\"mean\")\n",
    "\n",
    "\n",
    "    def forward(self, x):\n",
    "        x = x.float()  # convert tensor to float precision\n",
    "        return self.model(x)\n",
    "    \n",
    "    def _common_step(self, batch, batch_idx):\n",
    "        x, y = batch\n",
    "        y_hat = self(x)\n",
    "        y_hat_discrete = (torch.sigmoid(y_hat) > 0.5).float()\n",
    "        loss = self.loss_fn(y_hat, y)\n",
    "        self.dice_metric(y_hat_discrete, y)\n",
    "        dice_score = self.dice_metric.aggregate().item()\n",
    "        self.dice_metric.reset()\n",
    "        return loss, dice_score, y_hat, y_hat_discrete\n",
    "\n",
    "\n",
    "    def training_step(self, batch, batch_idx):\n",
    "        loss, dice_score, y_hat, y_hat_discrete = self._common_step(batch, batch_idx)\n",
    "        self.log('train_loss', loss)\n",
    "        self.log('train_dice_score', dice_score)\n",
    "        return loss\n",
    "\n",
    "    def validation_step(self, batch, batch_idx):\n",
    "        loss, dice_score, y_hat, y_hat_discrete = self._common_step(batch, batch_idx)\n",
    "        self.log('val_loss', loss)\n",
    "        self.log('val_dice_score', dice_score)\n",
    "\n",
    "    def test_step(self, batch, batch_idx):\n",
    "        loss, dice_score, y_hat, y_hat_discrete = self._common_step(batch, batch_idx)\n",
    "        self.log('test_loss', loss)\n",
    "        self.log('test_dice_score', dice_score)\n",
    "\n",
    "    def configure_optimizers(self):\n",
    "        optimizer = torch.optim.Adam(self.parameters(), lr=self.learning_rate)\n",
    "        return optimizer\n"
   ]
  },
  {
   "cell_type": "code",
   "execution_count": 9,
   "metadata": {},
   "outputs": [],
   "source": [
    "\n",
    "import torch\n",
    "import pytorch_lightning as pl\n",
    "from pytorch_lightning.loggers import TensorBoardLogger, CSVLogger\n",
    "from pytorch_lightning.profilers import PyTorchProfiler\n",
    "from pytorch_lightning.strategies import DeepSpeedStrategy\n",
    "from monai.networks.nets import UNETR\n",
    "import monai\n",
    "\n",
    "BATCH_SIZE = 4       # Batch size for training\n",
    "NUM_EPOCHS = 100        # Number of epochs for training\n",
    "\n",
    "# Dataset settings\n",
    "NUM_WORKERS = 0      # Number of workers for data loading\n",
    "\n",
    "# Compute related settings\n",
    "ACCELERATOR = \"gpu\"   # Accelerator type (e.g., \"gpu\" for GPU acceleration)\n",
    "DEVICES = [0]         # List of device IDs for multi-GPU setup\n",
    "PRECISION = 32        # Numerical precision (e.g., 16 for half-precision)\n",
    "EXPERIMENT_NAME = \"seg_model_untrained_baseline_v2\"\n"
   ]
  },
  {
   "cell_type": "code",
   "execution_count": 10,
   "metadata": {},
   "outputs": [],
   "source": [
    "from pytorch_lightning.callbacks import ModelCheckpoint\n",
    "# saves a file like: my/path/sample-mnist-epoch=02-val_loss=0.32.ckpt\n",
    "checkpoint_callback = ModelCheckpoint(\n",
    "    monitor='val_loss',\n",
    "    dirpath='seg_checkpoints/',\n",
    "    save_top_k=3,\n",
    "    mode='min',\n",
    ")\n"
   ]
  },
  {
   "cell_type": "code",
   "execution_count": 8,
   "metadata": {},
   "outputs": [
    {
     "name": "stdout",
     "output_type": "stream",
     "text": [
      "2023-08-10 16:26:53,549 - GPU available: True (cuda), used: True\n",
      "2023-08-10 16:26:53,550 - TPU available: False, using: 0 TPU cores\n",
      "2023-08-10 16:26:53,551 - IPU available: False, using: 0 IPUs\n",
      "2023-08-10 16:26:53,551 - HPU available: False, using: 0 HPUs\n",
      "2023-08-10 16:26:57,839 - LOCAL_RANK: 0 - CUDA_VISIBLE_DEVICES: [0]\n",
      "2023-08-10 16:26:57,844 - \n",
      "  | Name    | Type          | Params\n",
      "------------------------------------------\n",
      "0 | model   | UNETR         | 92.8 M\n",
      "1 | loss_fn | DiceFocalLoss | 0     \n",
      "------------------------------------------\n",
      "92.8 M    Trainable params\n",
      "0         Non-trainable params\n",
      "92.8 M    Total params\n",
      "371.258   Total estimated model params size (MB)\n"
     ]
    },
    {
     "data": {
      "application/vnd.jupyter.widget-view+json": {
       "model_id": "e162da7d24cc494799b61ed71cc7022a",
       "version_major": 2,
       "version_minor": 0
      },
      "text/plain": [
       "Sanity Checking: 0it [00:00, ?it/s]"
      ]
     },
     "metadata": {},
     "output_type": "display_data"
    },
    {
     "name": "stderr",
     "output_type": "stream",
     "text": [
      "/home/incomple_/anaconda3/envs/ulip/lib/python3.7/site-packages/pytorch_lightning/trainer/connectors/data_connector.py:229: PossibleUserWarning: The dataloader, val_dataloader 0, does not have many workers which may be a bottleneck. Consider increasing the value of the `num_workers` argument` (try 20 which is the number of cpus on this machine) in the `DataLoader` init to improve performance.\n",
      "  category=PossibleUserWarning,\n",
      "/home/incomple_/anaconda3/envs/ulip/lib/python3.7/site-packages/pytorch_lightning/trainer/connectors/data_connector.py:229: PossibleUserWarning: The dataloader, train_dataloader, does not have many workers which may be a bottleneck. Consider increasing the value of the `num_workers` argument` (try 20 which is the number of cpus on this machine) in the `DataLoader` init to improve performance.\n",
      "  category=PossibleUserWarning,\n"
     ]
    },
    {
     "data": {
      "application/vnd.jupyter.widget-view+json": {
       "model_id": "b80d91aadfbb477fa33dac4a1e4eb309",
       "version_major": 2,
       "version_minor": 0
      },
      "text/plain": [
       "Training: 0it [00:00, ?it/s]"
      ]
     },
     "metadata": {},
     "output_type": "display_data"
    },
    {
     "data": {
      "application/vnd.jupyter.widget-view+json": {
       "model_id": "10647cd4041744c4bc902753f2c24b7b",
       "version_major": 2,
       "version_minor": 0
      },
      "text/plain": [
       "Validation: 0it [00:00, ?it/s]"
      ]
     },
     "metadata": {},
     "output_type": "display_data"
    },
    {
     "data": {
      "application/vnd.jupyter.widget-view+json": {
       "model_id": "ff7ab5cecfaf4292850f8abd9740e015",
       "version_major": 2,
       "version_minor": 0
      },
      "text/plain": [
       "Validation: 0it [00:00, ?it/s]"
      ]
     },
     "metadata": {},
     "output_type": "display_data"
    },
    {
     "data": {
      "application/vnd.jupyter.widget-view+json": {
       "model_id": "fa85eef7d0ab4a7eba5e29c0c5e257b5",
       "version_major": 2,
       "version_minor": 0
      },
      "text/plain": [
       "Validation: 0it [00:00, ?it/s]"
      ]
     },
     "metadata": {},
     "output_type": "display_data"
    },
    {
     "data": {
      "application/vnd.jupyter.widget-view+json": {
       "model_id": "30415cd01f3e43d4b428d1e7562c813b",
       "version_major": 2,
       "version_minor": 0
      },
      "text/plain": [
       "Validation: 0it [00:00, ?it/s]"
      ]
     },
     "metadata": {},
     "output_type": "display_data"
    },
    {
     "data": {
      "application/vnd.jupyter.widget-view+json": {
       "model_id": "82e35913ae92445fbb0b1d7da0d865f6",
       "version_major": 2,
       "version_minor": 0
      },
      "text/plain": [
       "Validation: 0it [00:00, ?it/s]"
      ]
     },
     "metadata": {},
     "output_type": "display_data"
    },
    {
     "data": {
      "application/vnd.jupyter.widget-view+json": {
       "model_id": "70cea883264a4c76979ce70a49d5dae2",
       "version_major": 2,
       "version_minor": 0
      },
      "text/plain": [
       "Validation: 0it [00:00, ?it/s]"
      ]
     },
     "metadata": {},
     "output_type": "display_data"
    },
    {
     "data": {
      "application/vnd.jupyter.widget-view+json": {
       "model_id": "fb921465eb8f441ba554a5500a3e3a47",
       "version_major": 2,
       "version_minor": 0
      },
      "text/plain": [
       "Validation: 0it [00:00, ?it/s]"
      ]
     },
     "metadata": {},
     "output_type": "display_data"
    },
    {
     "data": {
      "application/vnd.jupyter.widget-view+json": {
       "model_id": "8954c3db8a084b83a1a51763fa63d70f",
       "version_major": 2,
       "version_minor": 0
      },
      "text/plain": [
       "Validation: 0it [00:00, ?it/s]"
      ]
     },
     "metadata": {},
     "output_type": "display_data"
    },
    {
     "data": {
      "application/vnd.jupyter.widget-view+json": {
       "model_id": "e88eee1e4b9e444897f4a3d38061b339",
       "version_major": 2,
       "version_minor": 0
      },
      "text/plain": [
       "Validation: 0it [00:00, ?it/s]"
      ]
     },
     "metadata": {},
     "output_type": "display_data"
    },
    {
     "data": {
      "application/vnd.jupyter.widget-view+json": {
       "model_id": "91c1f65c7d4c42f28b276222ec8d1ecb",
       "version_major": 2,
       "version_minor": 0
      },
      "text/plain": [
       "Validation: 0it [00:00, ?it/s]"
      ]
     },
     "metadata": {},
     "output_type": "display_data"
    },
    {
     "data": {
      "application/vnd.jupyter.widget-view+json": {
       "model_id": "da13ea5b26d54229a739e8f5ae149634",
       "version_major": 2,
       "version_minor": 0
      },
      "text/plain": [
       "Validation: 0it [00:00, ?it/s]"
      ]
     },
     "metadata": {},
     "output_type": "display_data"
    },
    {
     "data": {
      "application/vnd.jupyter.widget-view+json": {
       "model_id": "b2e92f0fa6bb4d1c8a8fc77fa2c9862b",
       "version_major": 2,
       "version_minor": 0
      },
      "text/plain": [
       "Validation: 0it [00:00, ?it/s]"
      ]
     },
     "metadata": {},
     "output_type": "display_data"
    },
    {
     "data": {
      "application/vnd.jupyter.widget-view+json": {
       "model_id": "39065584588d4db6b10c739582f0d95b",
       "version_major": 2,
       "version_minor": 0
      },
      "text/plain": [
       "Validation: 0it [00:00, ?it/s]"
      ]
     },
     "metadata": {},
     "output_type": "display_data"
    },
    {
     "data": {
      "application/vnd.jupyter.widget-view+json": {
       "model_id": "8bb273cbd4fb43e3aa7d6edc91f6907e",
       "version_major": 2,
       "version_minor": 0
      },
      "text/plain": [
       "Validation: 0it [00:00, ?it/s]"
      ]
     },
     "metadata": {},
     "output_type": "display_data"
    },
    {
     "data": {
      "application/vnd.jupyter.widget-view+json": {
       "model_id": "f33989e96aac4555aff0dc6d937c8eae",
       "version_major": 2,
       "version_minor": 0
      },
      "text/plain": [
       "Validation: 0it [00:00, ?it/s]"
      ]
     },
     "metadata": {},
     "output_type": "display_data"
    },
    {
     "data": {
      "application/vnd.jupyter.widget-view+json": {
       "model_id": "0b8b7267862644a5a86c09204c306c71",
       "version_major": 2,
       "version_minor": 0
      },
      "text/plain": [
       "Validation: 0it [00:00, ?it/s]"
      ]
     },
     "metadata": {},
     "output_type": "display_data"
    },
    {
     "data": {
      "application/vnd.jupyter.widget-view+json": {
       "model_id": "db9c6badb8ea4107bd06e50da1c407a9",
       "version_major": 2,
       "version_minor": 0
      },
      "text/plain": [
       "Validation: 0it [00:00, ?it/s]"
      ]
     },
     "metadata": {},
     "output_type": "display_data"
    },
    {
     "data": {
      "application/vnd.jupyter.widget-view+json": {
       "model_id": "521fd91457094b1cbfb25a9ab9435247",
       "version_major": 2,
       "version_minor": 0
      },
      "text/plain": [
       "Validation: 0it [00:00, ?it/s]"
      ]
     },
     "metadata": {},
     "output_type": "display_data"
    },
    {
     "data": {
      "application/vnd.jupyter.widget-view+json": {
       "model_id": "e7d069bec26c4e969a81a32fce3ef1bb",
       "version_major": 2,
       "version_minor": 0
      },
      "text/plain": [
       "Validation: 0it [00:00, ?it/s]"
      ]
     },
     "metadata": {},
     "output_type": "display_data"
    },
    {
     "data": {
      "application/vnd.jupyter.widget-view+json": {
       "model_id": "262fa4b9ed0e43028a6e150554e8b2b8",
       "version_major": 2,
       "version_minor": 0
      },
      "text/plain": [
       "Validation: 0it [00:00, ?it/s]"
      ]
     },
     "metadata": {},
     "output_type": "display_data"
    },
    {
     "data": {
      "application/vnd.jupyter.widget-view+json": {
       "model_id": "df4bc34730fe47eab7351b95237b5362",
       "version_major": 2,
       "version_minor": 0
      },
      "text/plain": [
       "Validation: 0it [00:00, ?it/s]"
      ]
     },
     "metadata": {},
     "output_type": "display_data"
    },
    {
     "data": {
      "application/vnd.jupyter.widget-view+json": {
       "model_id": "fc0f87a0acd34657b6445fbf9cfc58a4",
       "version_major": 2,
       "version_minor": 0
      },
      "text/plain": [
       "Validation: 0it [00:00, ?it/s]"
      ]
     },
     "metadata": {},
     "output_type": "display_data"
    },
    {
     "data": {
      "application/vnd.jupyter.widget-view+json": {
       "model_id": "4049cf5e73e64caf97972346803b3631",
       "version_major": 2,
       "version_minor": 0
      },
      "text/plain": [
       "Validation: 0it [00:00, ?it/s]"
      ]
     },
     "metadata": {},
     "output_type": "display_data"
    },
    {
     "data": {
      "application/vnd.jupyter.widget-view+json": {
       "model_id": "7c5b91bb3f0949c4895bb5f10df3c6ee",
       "version_major": 2,
       "version_minor": 0
      },
      "text/plain": [
       "Validation: 0it [00:00, ?it/s]"
      ]
     },
     "metadata": {},
     "output_type": "display_data"
    },
    {
     "data": {
      "application/vnd.jupyter.widget-view+json": {
       "model_id": "b93a38232f3d444d87b920ec76ef4437",
       "version_major": 2,
       "version_minor": 0
      },
      "text/plain": [
       "Validation: 0it [00:00, ?it/s]"
      ]
     },
     "metadata": {},
     "output_type": "display_data"
    },
    {
     "data": {
      "application/vnd.jupyter.widget-view+json": {
       "model_id": "b7ea10db2fbb4155915e2c1fdb65905b",
       "version_major": 2,
       "version_minor": 0
      },
      "text/plain": [
       "Validation: 0it [00:00, ?it/s]"
      ]
     },
     "metadata": {},
     "output_type": "display_data"
    },
    {
     "data": {
      "application/vnd.jupyter.widget-view+json": {
       "model_id": "06804059dff24c289800d95fccd9ef8f",
       "version_major": 2,
       "version_minor": 0
      },
      "text/plain": [
       "Validation: 0it [00:00, ?it/s]"
      ]
     },
     "metadata": {},
     "output_type": "display_data"
    },
    {
     "data": {
      "application/vnd.jupyter.widget-view+json": {
       "model_id": "01afbd610c794383b3bff7cf579f274d",
       "version_major": 2,
       "version_minor": 0
      },
      "text/plain": [
       "Validation: 0it [00:00, ?it/s]"
      ]
     },
     "metadata": {},
     "output_type": "display_data"
    },
    {
     "data": {
      "application/vnd.jupyter.widget-view+json": {
       "model_id": "858eb6f651a9407198eb40a0951d04dc",
       "version_major": 2,
       "version_minor": 0
      },
      "text/plain": [
       "Validation: 0it [00:00, ?it/s]"
      ]
     },
     "metadata": {},
     "output_type": "display_data"
    },
    {
     "data": {
      "application/vnd.jupyter.widget-view+json": {
       "model_id": "8a953e9a38344286a281add974fddbc1",
       "version_major": 2,
       "version_minor": 0
      },
      "text/plain": [
       "Validation: 0it [00:00, ?it/s]"
      ]
     },
     "metadata": {},
     "output_type": "display_data"
    },
    {
     "data": {
      "application/vnd.jupyter.widget-view+json": {
       "model_id": "079ab3961b264f7a843a8852d757c053",
       "version_major": 2,
       "version_minor": 0
      },
      "text/plain": [
       "Validation: 0it [00:00, ?it/s]"
      ]
     },
     "metadata": {},
     "output_type": "display_data"
    },
    {
     "data": {
      "application/vnd.jupyter.widget-view+json": {
       "model_id": "e5a4fcf5f50c44e185cb4b7e8f677b02",
       "version_major": 2,
       "version_minor": 0
      },
      "text/plain": [
       "Validation: 0it [00:00, ?it/s]"
      ]
     },
     "metadata": {},
     "output_type": "display_data"
    },
    {
     "data": {
      "application/vnd.jupyter.widget-view+json": {
       "model_id": "d02a4f864a9a4d3bb9bbb8d62883e04b",
       "version_major": 2,
       "version_minor": 0
      },
      "text/plain": [
       "Validation: 0it [00:00, ?it/s]"
      ]
     },
     "metadata": {},
     "output_type": "display_data"
    },
    {
     "data": {
      "application/vnd.jupyter.widget-view+json": {
       "model_id": "51cdaa7fe78c4981a1b9e1d03fa27ed2",
       "version_major": 2,
       "version_minor": 0
      },
      "text/plain": [
       "Validation: 0it [00:00, ?it/s]"
      ]
     },
     "metadata": {},
     "output_type": "display_data"
    },
    {
     "data": {
      "application/vnd.jupyter.widget-view+json": {
       "model_id": "54bf876a2922443d890e0d717ac1e553",
       "version_major": 2,
       "version_minor": 0
      },
      "text/plain": [
       "Validation: 0it [00:00, ?it/s]"
      ]
     },
     "metadata": {},
     "output_type": "display_data"
    },
    {
     "data": {
      "application/vnd.jupyter.widget-view+json": {
       "model_id": "5f588ae47ca44a82afee925193da11da",
       "version_major": 2,
       "version_minor": 0
      },
      "text/plain": [
       "Validation: 0it [00:00, ?it/s]"
      ]
     },
     "metadata": {},
     "output_type": "display_data"
    },
    {
     "data": {
      "application/vnd.jupyter.widget-view+json": {
       "model_id": "2da973ec5b1941c3935c33c4aa712383",
       "version_major": 2,
       "version_minor": 0
      },
      "text/plain": [
       "Validation: 0it [00:00, ?it/s]"
      ]
     },
     "metadata": {},
     "output_type": "display_data"
    },
    {
     "data": {
      "application/vnd.jupyter.widget-view+json": {
       "model_id": "9bc419625c19494f9079d419dcdaf246",
       "version_major": 2,
       "version_minor": 0
      },
      "text/plain": [
       "Validation: 0it [00:00, ?it/s]"
      ]
     },
     "metadata": {},
     "output_type": "display_data"
    },
    {
     "data": {
      "application/vnd.jupyter.widget-view+json": {
       "model_id": "0ed2fd4e039e4cc3963341217d702403",
       "version_major": 2,
       "version_minor": 0
      },
      "text/plain": [
       "Validation: 0it [00:00, ?it/s]"
      ]
     },
     "metadata": {},
     "output_type": "display_data"
    },
    {
     "data": {
      "application/vnd.jupyter.widget-view+json": {
       "model_id": "4692c5839c364246874b42723ec399b3",
       "version_major": 2,
       "version_minor": 0
      },
      "text/plain": [
       "Validation: 0it [00:00, ?it/s]"
      ]
     },
     "metadata": {},
     "output_type": "display_data"
    },
    {
     "data": {
      "application/vnd.jupyter.widget-view+json": {
       "model_id": "55afd68a83594efaaea82bcc59a8e96b",
       "version_major": 2,
       "version_minor": 0
      },
      "text/plain": [
       "Validation: 0it [00:00, ?it/s]"
      ]
     },
     "metadata": {},
     "output_type": "display_data"
    },
    {
     "data": {
      "application/vnd.jupyter.widget-view+json": {
       "model_id": "fe2e5de0f19043a3abfd1c59ce04f4fc",
       "version_major": 2,
       "version_minor": 0
      },
      "text/plain": [
       "Validation: 0it [00:00, ?it/s]"
      ]
     },
     "metadata": {},
     "output_type": "display_data"
    },
    {
     "data": {
      "application/vnd.jupyter.widget-view+json": {
       "model_id": "8ee471cd120d44c080aad7651f82cb0a",
       "version_major": 2,
       "version_minor": 0
      },
      "text/plain": [
       "Validation: 0it [00:00, ?it/s]"
      ]
     },
     "metadata": {},
     "output_type": "display_data"
    },
    {
     "data": {
      "application/vnd.jupyter.widget-view+json": {
       "model_id": "c8bb3d2f14d24f6391312ef923fed505",
       "version_major": 2,
       "version_minor": 0
      },
      "text/plain": [
       "Validation: 0it [00:00, ?it/s]"
      ]
     },
     "metadata": {},
     "output_type": "display_data"
    },
    {
     "data": {
      "application/vnd.jupyter.widget-view+json": {
       "model_id": "7b52fccf09bd463f8daaff33434b02e5",
       "version_major": 2,
       "version_minor": 0
      },
      "text/plain": [
       "Validation: 0it [00:00, ?it/s]"
      ]
     },
     "metadata": {},
     "output_type": "display_data"
    },
    {
     "data": {
      "application/vnd.jupyter.widget-view+json": {
       "model_id": "03f4f705038240479d20909ef2619ec4",
       "version_major": 2,
       "version_minor": 0
      },
      "text/plain": [
       "Validation: 0it [00:00, ?it/s]"
      ]
     },
     "metadata": {},
     "output_type": "display_data"
    },
    {
     "data": {
      "application/vnd.jupyter.widget-view+json": {
       "model_id": "81e63256a5d44d958384ca340ca2bbd3",
       "version_major": 2,
       "version_minor": 0
      },
      "text/plain": [
       "Validation: 0it [00:00, ?it/s]"
      ]
     },
     "metadata": {},
     "output_type": "display_data"
    },
    {
     "data": {
      "application/vnd.jupyter.widget-view+json": {
       "model_id": "c91ed9da1ede4e74b4f91f064ce820e5",
       "version_major": 2,
       "version_minor": 0
      },
      "text/plain": [
       "Validation: 0it [00:00, ?it/s]"
      ]
     },
     "metadata": {},
     "output_type": "display_data"
    },
    {
     "data": {
      "application/vnd.jupyter.widget-view+json": {
       "model_id": "07b723c2a3ee4b86b0ef2b11183959c7",
       "version_major": 2,
       "version_minor": 0
      },
      "text/plain": [
       "Validation: 0it [00:00, ?it/s]"
      ]
     },
     "metadata": {},
     "output_type": "display_data"
    },
    {
     "data": {
      "application/vnd.jupyter.widget-view+json": {
       "model_id": "49ef5910d5664467aefb0067966abb80",
       "version_major": 2,
       "version_minor": 0
      },
      "text/plain": [
       "Validation: 0it [00:00, ?it/s]"
      ]
     },
     "metadata": {},
     "output_type": "display_data"
    },
    {
     "data": {
      "application/vnd.jupyter.widget-view+json": {
       "model_id": "96a6eac5fe9f4974b96bca4f188b176b",
       "version_major": 2,
       "version_minor": 0
      },
      "text/plain": [
       "Validation: 0it [00:00, ?it/s]"
      ]
     },
     "metadata": {},
     "output_type": "display_data"
    },
    {
     "data": {
      "application/vnd.jupyter.widget-view+json": {
       "model_id": "90aac3960c374856b223e8e0cd75cb0a",
       "version_major": 2,
       "version_minor": 0
      },
      "text/plain": [
       "Validation: 0it [00:00, ?it/s]"
      ]
     },
     "metadata": {},
     "output_type": "display_data"
    },
    {
     "data": {
      "application/vnd.jupyter.widget-view+json": {
       "model_id": "2aa4d526a0d948aea497ab0d4e893799",
       "version_major": 2,
       "version_minor": 0
      },
      "text/plain": [
       "Validation: 0it [00:00, ?it/s]"
      ]
     },
     "metadata": {},
     "output_type": "display_data"
    },
    {
     "data": {
      "application/vnd.jupyter.widget-view+json": {
       "model_id": "06c3e5f5379d4953a18d6e8ccc2234ce",
       "version_major": 2,
       "version_minor": 0
      },
      "text/plain": [
       "Validation: 0it [00:00, ?it/s]"
      ]
     },
     "metadata": {},
     "output_type": "display_data"
    },
    {
     "data": {
      "application/vnd.jupyter.widget-view+json": {
       "model_id": "ff4edb35068142989e8bbb564f51c910",
       "version_major": 2,
       "version_minor": 0
      },
      "text/plain": [
       "Validation: 0it [00:00, ?it/s]"
      ]
     },
     "metadata": {},
     "output_type": "display_data"
    },
    {
     "data": {
      "application/vnd.jupyter.widget-view+json": {
       "model_id": "180d62145b3f4b838f4b7ffb92bc5be8",
       "version_major": 2,
       "version_minor": 0
      },
      "text/plain": [
       "Validation: 0it [00:00, ?it/s]"
      ]
     },
     "metadata": {},
     "output_type": "display_data"
    },
    {
     "data": {
      "application/vnd.jupyter.widget-view+json": {
       "model_id": "a974ddccbce54c398694b36e8724bbc3",
       "version_major": 2,
       "version_minor": 0
      },
      "text/plain": [
       "Validation: 0it [00:00, ?it/s]"
      ]
     },
     "metadata": {},
     "output_type": "display_data"
    },
    {
     "data": {
      "application/vnd.jupyter.widget-view+json": {
       "model_id": "89bd47d73f014b5792f7251d80e68e81",
       "version_major": 2,
       "version_minor": 0
      },
      "text/plain": [
       "Validation: 0it [00:00, ?it/s]"
      ]
     },
     "metadata": {},
     "output_type": "display_data"
    },
    {
     "data": {
      "application/vnd.jupyter.widget-view+json": {
       "model_id": "33778cca8344495a8a9803a71b827cb3",
       "version_major": 2,
       "version_minor": 0
      },
      "text/plain": [
       "Validation: 0it [00:00, ?it/s]"
      ]
     },
     "metadata": {},
     "output_type": "display_data"
    },
    {
     "data": {
      "application/vnd.jupyter.widget-view+json": {
       "model_id": "7c133d0765fc428ea6cb4619df268a6b",
       "version_major": 2,
       "version_minor": 0
      },
      "text/plain": [
       "Validation: 0it [00:00, ?it/s]"
      ]
     },
     "metadata": {},
     "output_type": "display_data"
    },
    {
     "data": {
      "application/vnd.jupyter.widget-view+json": {
       "model_id": "66e8a59e9cf14bf39ef4cdfb2a43a343",
       "version_major": 2,
       "version_minor": 0
      },
      "text/plain": [
       "Validation: 0it [00:00, ?it/s]"
      ]
     },
     "metadata": {},
     "output_type": "display_data"
    },
    {
     "data": {
      "application/vnd.jupyter.widget-view+json": {
       "model_id": "a57e52916e8a4c3ea2085e7c47eb4f53",
       "version_major": 2,
       "version_minor": 0
      },
      "text/plain": [
       "Validation: 0it [00:00, ?it/s]"
      ]
     },
     "metadata": {},
     "output_type": "display_data"
    },
    {
     "data": {
      "application/vnd.jupyter.widget-view+json": {
       "model_id": "f23a4d0ac8314167b69a31ef5a7542fb",
       "version_major": 2,
       "version_minor": 0
      },
      "text/plain": [
       "Validation: 0it [00:00, ?it/s]"
      ]
     },
     "metadata": {},
     "output_type": "display_data"
    },
    {
     "data": {
      "application/vnd.jupyter.widget-view+json": {
       "model_id": "be0a2e9191064d1abc7302e10da81511",
       "version_major": 2,
       "version_minor": 0
      },
      "text/plain": [
       "Validation: 0it [00:00, ?it/s]"
      ]
     },
     "metadata": {},
     "output_type": "display_data"
    },
    {
     "data": {
      "application/vnd.jupyter.widget-view+json": {
       "model_id": "4a2db85c11f3422299f984821fb679ca",
       "version_major": 2,
       "version_minor": 0
      },
      "text/plain": [
       "Validation: 0it [00:00, ?it/s]"
      ]
     },
     "metadata": {},
     "output_type": "display_data"
    },
    {
     "data": {
      "application/vnd.jupyter.widget-view+json": {
       "model_id": "34f628614e89454b8b6c0ad22783b40d",
       "version_major": 2,
       "version_minor": 0
      },
      "text/plain": [
       "Validation: 0it [00:00, ?it/s]"
      ]
     },
     "metadata": {},
     "output_type": "display_data"
    },
    {
     "data": {
      "application/vnd.jupyter.widget-view+json": {
       "model_id": "dcfc734d3dae48b4afef2c618e90d1bc",
       "version_major": 2,
       "version_minor": 0
      },
      "text/plain": [
       "Validation: 0it [00:00, ?it/s]"
      ]
     },
     "metadata": {},
     "output_type": "display_data"
    },
    {
     "data": {
      "application/vnd.jupyter.widget-view+json": {
       "model_id": "2c4fa3a2d18d4e2ca4f58c41e94996eb",
       "version_major": 2,
       "version_minor": 0
      },
      "text/plain": [
       "Validation: 0it [00:00, ?it/s]"
      ]
     },
     "metadata": {},
     "output_type": "display_data"
    },
    {
     "data": {
      "application/vnd.jupyter.widget-view+json": {
       "model_id": "d9a3303000c242f0899fec302b96cfa5",
       "version_major": 2,
       "version_minor": 0
      },
      "text/plain": [
       "Validation: 0it [00:00, ?it/s]"
      ]
     },
     "metadata": {},
     "output_type": "display_data"
    },
    {
     "data": {
      "application/vnd.jupyter.widget-view+json": {
       "model_id": "eeea8e2667ab471b93e33daa73a255d7",
       "version_major": 2,
       "version_minor": 0
      },
      "text/plain": [
       "Validation: 0it [00:00, ?it/s]"
      ]
     },
     "metadata": {},
     "output_type": "display_data"
    },
    {
     "data": {
      "application/vnd.jupyter.widget-view+json": {
       "model_id": "db622fe607a24033a0409f8530abd69d",
       "version_major": 2,
       "version_minor": 0
      },
      "text/plain": [
       "Validation: 0it [00:00, ?it/s]"
      ]
     },
     "metadata": {},
     "output_type": "display_data"
    },
    {
     "data": {
      "application/vnd.jupyter.widget-view+json": {
       "model_id": "359ca9eee9f6476ab682d95ffce8da9b",
       "version_major": 2,
       "version_minor": 0
      },
      "text/plain": [
       "Validation: 0it [00:00, ?it/s]"
      ]
     },
     "metadata": {},
     "output_type": "display_data"
    },
    {
     "data": {
      "application/vnd.jupyter.widget-view+json": {
       "model_id": "549f72b67cad44c2b89a6773f9d755e2",
       "version_major": 2,
       "version_minor": 0
      },
      "text/plain": [
       "Validation: 0it [00:00, ?it/s]"
      ]
     },
     "metadata": {},
     "output_type": "display_data"
    },
    {
     "data": {
      "application/vnd.jupyter.widget-view+json": {
       "model_id": "30daf676d0f24c9394a5aa0ed02318f6",
       "version_major": 2,
       "version_minor": 0
      },
      "text/plain": [
       "Validation: 0it [00:00, ?it/s]"
      ]
     },
     "metadata": {},
     "output_type": "display_data"
    },
    {
     "data": {
      "application/vnd.jupyter.widget-view+json": {
       "model_id": "17a70353a6d649d2bd4b459bdd0533d1",
       "version_major": 2,
       "version_minor": 0
      },
      "text/plain": [
       "Validation: 0it [00:00, ?it/s]"
      ]
     },
     "metadata": {},
     "output_type": "display_data"
    },
    {
     "data": {
      "application/vnd.jupyter.widget-view+json": {
       "model_id": "c4edb39571f8494ea52b0605e312721e",
       "version_major": 2,
       "version_minor": 0
      },
      "text/plain": [
       "Validation: 0it [00:00, ?it/s]"
      ]
     },
     "metadata": {},
     "output_type": "display_data"
    },
    {
     "data": {
      "application/vnd.jupyter.widget-view+json": {
       "model_id": "70f07c18604547ee85d009c22a722a76",
       "version_major": 2,
       "version_minor": 0
      },
      "text/plain": [
       "Validation: 0it [00:00, ?it/s]"
      ]
     },
     "metadata": {},
     "output_type": "display_data"
    },
    {
     "data": {
      "application/vnd.jupyter.widget-view+json": {
       "model_id": "e51cbf4ccf164589839884abd003fdd7",
       "version_major": 2,
       "version_minor": 0
      },
      "text/plain": [
       "Validation: 0it [00:00, ?it/s]"
      ]
     },
     "metadata": {},
     "output_type": "display_data"
    },
    {
     "data": {
      "application/vnd.jupyter.widget-view+json": {
       "model_id": "7f02073ab2964451ab1023eca825ace0",
       "version_major": 2,
       "version_minor": 0
      },
      "text/plain": [
       "Validation: 0it [00:00, ?it/s]"
      ]
     },
     "metadata": {},
     "output_type": "display_data"
    },
    {
     "data": {
      "application/vnd.jupyter.widget-view+json": {
       "model_id": "94b6afdacfb24f22801f0065eb22e65e",
       "version_major": 2,
       "version_minor": 0
      },
      "text/plain": [
       "Validation: 0it [00:00, ?it/s]"
      ]
     },
     "metadata": {},
     "output_type": "display_data"
    },
    {
     "data": {
      "application/vnd.jupyter.widget-view+json": {
       "model_id": "ae5263f6f39f4ab7904bf0ab0a133b53",
       "version_major": 2,
       "version_minor": 0
      },
      "text/plain": [
       "Validation: 0it [00:00, ?it/s]"
      ]
     },
     "metadata": {},
     "output_type": "display_data"
    },
    {
     "data": {
      "application/vnd.jupyter.widget-view+json": {
       "model_id": "02101e74b6de43bd864945892fa3b4d1",
       "version_major": 2,
       "version_minor": 0
      },
      "text/plain": [
       "Validation: 0it [00:00, ?it/s]"
      ]
     },
     "metadata": {},
     "output_type": "display_data"
    },
    {
     "data": {
      "application/vnd.jupyter.widget-view+json": {
       "model_id": "63b9370f9267426a950fc5e8fb6e70f0",
       "version_major": 2,
       "version_minor": 0
      },
      "text/plain": [
       "Validation: 0it [00:00, ?it/s]"
      ]
     },
     "metadata": {},
     "output_type": "display_data"
    },
    {
     "data": {
      "application/vnd.jupyter.widget-view+json": {
       "model_id": "f5002e1cd2274249b5c42b44468d7496",
       "version_major": 2,
       "version_minor": 0
      },
      "text/plain": [
       "Validation: 0it [00:00, ?it/s]"
      ]
     },
     "metadata": {},
     "output_type": "display_data"
    },
    {
     "data": {
      "application/vnd.jupyter.widget-view+json": {
       "model_id": "c58a83f5029641a99dcedb803fd86c68",
       "version_major": 2,
       "version_minor": 0
      },
      "text/plain": [
       "Validation: 0it [00:00, ?it/s]"
      ]
     },
     "metadata": {},
     "output_type": "display_data"
    },
    {
     "data": {
      "application/vnd.jupyter.widget-view+json": {
       "model_id": "039c9321498d4ce09eab5546c1154ce0",
       "version_major": 2,
       "version_minor": 0
      },
      "text/plain": [
       "Validation: 0it [00:00, ?it/s]"
      ]
     },
     "metadata": {},
     "output_type": "display_data"
    },
    {
     "data": {
      "application/vnd.jupyter.widget-view+json": {
       "model_id": "8250da5977c84e6987c5977f6290cfbe",
       "version_major": 2,
       "version_minor": 0
      },
      "text/plain": [
       "Validation: 0it [00:00, ?it/s]"
      ]
     },
     "metadata": {},
     "output_type": "display_data"
    },
    {
     "data": {
      "application/vnd.jupyter.widget-view+json": {
       "model_id": "878bef31f95346a689d8438fffaa594a",
       "version_major": 2,
       "version_minor": 0
      },
      "text/plain": [
       "Validation: 0it [00:00, ?it/s]"
      ]
     },
     "metadata": {},
     "output_type": "display_data"
    },
    {
     "data": {
      "application/vnd.jupyter.widget-view+json": {
       "model_id": "e7efe409dd9949edbb7c5b7c57031cb6",
       "version_major": 2,
       "version_minor": 0
      },
      "text/plain": [
       "Validation: 0it [00:00, ?it/s]"
      ]
     },
     "metadata": {},
     "output_type": "display_data"
    },
    {
     "data": {
      "application/vnd.jupyter.widget-view+json": {
       "model_id": "82c5ffa049cc4449bc959afe9ef7339c",
       "version_major": 2,
       "version_minor": 0
      },
      "text/plain": [
       "Validation: 0it [00:00, ?it/s]"
      ]
     },
     "metadata": {},
     "output_type": "display_data"
    },
    {
     "data": {
      "application/vnd.jupyter.widget-view+json": {
       "model_id": "4f9cbd1f78dc4d1dac75bc021063ded7",
       "version_major": 2,
       "version_minor": 0
      },
      "text/plain": [
       "Validation: 0it [00:00, ?it/s]"
      ]
     },
     "metadata": {},
     "output_type": "display_data"
    },
    {
     "data": {
      "application/vnd.jupyter.widget-view+json": {
       "model_id": "bc4782c358cb46a99e7f9226e1e0e1ff",
       "version_major": 2,
       "version_minor": 0
      },
      "text/plain": [
       "Validation: 0it [00:00, ?it/s]"
      ]
     },
     "metadata": {},
     "output_type": "display_data"
    },
    {
     "data": {
      "application/vnd.jupyter.widget-view+json": {
       "model_id": "2a0062a1591445b2aa5fb00272d39291",
       "version_major": 2,
       "version_minor": 0
      },
      "text/plain": [
       "Validation: 0it [00:00, ?it/s]"
      ]
     },
     "metadata": {},
     "output_type": "display_data"
    },
    {
     "data": {
      "application/vnd.jupyter.widget-view+json": {
       "model_id": "0c26b13d380c423fa45524b2f6e8bc49",
       "version_major": 2,
       "version_minor": 0
      },
      "text/plain": [
       "Validation: 0it [00:00, ?it/s]"
      ]
     },
     "metadata": {},
     "output_type": "display_data"
    },
    {
     "data": {
      "application/vnd.jupyter.widget-view+json": {
       "model_id": "052e7097b0fe4f439704007c1f001b59",
       "version_major": 2,
       "version_minor": 0
      },
      "text/plain": [
       "Validation: 0it [00:00, ?it/s]"
      ]
     },
     "metadata": {},
     "output_type": "display_data"
    },
    {
     "data": {
      "application/vnd.jupyter.widget-view+json": {
       "model_id": "527f02b572c543fdb60247c763215fd6",
       "version_major": 2,
       "version_minor": 0
      },
      "text/plain": [
       "Validation: 0it [00:00, ?it/s]"
      ]
     },
     "metadata": {},
     "output_type": "display_data"
    },
    {
     "data": {
      "application/vnd.jupyter.widget-view+json": {
       "model_id": "c2bdbe3c3e5c469da480bebb5ffcb976",
       "version_major": 2,
       "version_minor": 0
      },
      "text/plain": [
       "Validation: 0it [00:00, ?it/s]"
      ]
     },
     "metadata": {},
     "output_type": "display_data"
    },
    {
     "data": {
      "application/vnd.jupyter.widget-view+json": {
       "model_id": "bf75ff3bd93e4422895d03457097d094",
       "version_major": 2,
       "version_minor": 0
      },
      "text/plain": [
       "Validation: 0it [00:00, ?it/s]"
      ]
     },
     "metadata": {},
     "output_type": "display_data"
    },
    {
     "data": {
      "application/vnd.jupyter.widget-view+json": {
       "model_id": "e1d0f783f5884fb29efbc99f5cda630a",
       "version_major": 2,
       "version_minor": 0
      },
      "text/plain": [
       "Validation: 0it [00:00, ?it/s]"
      ]
     },
     "metadata": {},
     "output_type": "display_data"
    },
    {
     "data": {
      "application/vnd.jupyter.widget-view+json": {
       "model_id": "20db851f7f8f4bb6a539fffb109d3ce0",
       "version_major": 2,
       "version_minor": 0
      },
      "text/plain": [
       "Validation: 0it [00:00, ?it/s]"
      ]
     },
     "metadata": {},
     "output_type": "display_data"
    },
    {
     "name": "stdout",
     "output_type": "stream",
     "text": [
      "2023-08-10 19:57:57,184 - `Trainer.fit` stopped: `max_epochs=100` reached.\n",
      "2023-08-10 19:57:58,069 - LOCAL_RANK: 0 - CUDA_VISIBLE_DEVICES: [0]\n"
     ]
    },
    {
     "name": "stderr",
     "output_type": "stream",
     "text": [
      "/home/incomple_/anaconda3/envs/ulip/lib/python3.7/site-packages/pytorch_lightning/trainer/connectors/data_connector.py:229: PossibleUserWarning: The dataloader, val_dataloader 0, does not have many workers which may be a bottleneck. Consider increasing the value of the `num_workers` argument` (try 20 which is the number of cpus on this machine) in the `DataLoader` init to improve performance.\n",
      "  category=PossibleUserWarning,\n"
     ]
    },
    {
     "data": {
      "application/vnd.jupyter.widget-view+json": {
       "model_id": "f04f8848f9214dfeaac3c020db0031c9",
       "version_major": 2,
       "version_minor": 0
      },
      "text/plain": [
       "Validation: 0it [00:00, ?it/s]"
      ]
     },
     "metadata": {},
     "output_type": "display_data"
    },
    {
     "name": "stdout",
     "output_type": "stream",
     "text": [
      "────────────────────────────────────────────────────────────────────────────────────────────────────────────────────────\n",
      "     Validate metric           DataLoader 0\n",
      "────────────────────────────────────────────────────────────────────────────────────────────────────────────────────────\n",
      "     val_dice_score        0.001988707110285759\n",
      "        val_loss            1.0055378675460815\n",
      "────────────────────────────────────────────────────────────────────────────────────────────────────────────────────────\n",
      "2023-08-10 19:59:02,629 - LOCAL_RANK: 0 - CUDA_VISIBLE_DEVICES: [0]\n"
     ]
    },
    {
     "name": "stderr",
     "output_type": "stream",
     "text": [
      "/home/incomple_/anaconda3/envs/ulip/lib/python3.7/site-packages/pytorch_lightning/trainer/connectors/data_connector.py:229: PossibleUserWarning: The dataloader, test_dataloader 0, does not have many workers which may be a bottleneck. Consider increasing the value of the `num_workers` argument` (try 20 which is the number of cpus on this machine) in the `DataLoader` init to improve performance.\n",
      "  category=PossibleUserWarning,\n"
     ]
    },
    {
     "data": {
      "application/vnd.jupyter.widget-view+json": {
       "model_id": "b854b0018540444088d40247ec58ba32",
       "version_major": 2,
       "version_minor": 0
      },
      "text/plain": [
       "Testing: 0it [00:00, ?it/s]"
      ]
     },
     "metadata": {},
     "output_type": "display_data"
    },
    {
     "name": "stdout",
     "output_type": "stream",
     "text": [
      "────────────────────────────────────────────────────────────────────────────────────────────────────────────────────────\n",
      "       Test metric             DataLoader 0\n",
      "────────────────────────────────────────────────────────────────────────────────────────────────────────────────────────\n",
      "     test_dice_score        0.02675100602209568\n",
      "        test_loss            0.995067834854126\n",
      "────────────────────────────────────────────────────────────────────────────────────────────────────────────────────────\n"
     ]
    },
    {
     "data": {
      "text/plain": [
       "[{'test_loss': 0.995067834854126, 'test_dice_score': 0.02675100602209568}]"
      ]
     },
     "execution_count": 8,
     "metadata": {},
     "output_type": "execute_result"
    }
   ],
   "source": [
    "\n",
    "\n",
    "\n",
    "device = torch.device(\"cuda\" if torch.cuda.is_available() else \"cpu\")\n",
    "csv_logger = CSVLogger(\"logs\", name=EXPERIMENT_NAME)\n",
    "tb_logger = TensorBoardLogger(\"logs\", name=EXPERIMENT_NAME)\n",
    "# strategy = DeepSpeedStrategy()  # Multi-GPU training Strategy\n",
    "profiler = PyTorchProfiler(  # Helps logs useful information for debugging (memory consumption etc.)\n",
    "    on_trace_ready=torch.profiler.tensorboard_trace_handler(\n",
    "        \"logs/profiler0\"),\n",
    "    schedule=torch.profiler.schedule(\n",
    "        skip_first=10, wait=3, warmup=2, active=5),\n",
    ")\n",
    "model = UNETRSegmentation(learning_rate=1e-3)\n",
    "\n",
    "dm = ADAMDataModule(\n",
    "    batch_size=BATCH_SIZE,\n",
    "    num_workers=NUM_WORKERS,\n",
    ")\n",
    "trainer = pl.Trainer(\n",
    "    # profiler=profiler,\n",
    "    logger=[csv_logger, tb_logger],\n",
    "    accelerator=ACCELERATOR,\n",
    "    devices=DEVICES,\n",
    "    min_epochs=1,\n",
    "    max_epochs=NUM_EPOCHS,\n",
    "    precision=PRECISION,\n",
    "    log_every_n_steps=3,\n",
    "    callbacks=[checkpoint_callback],\n",
    "    # fast_dev_run = True\n",
    "    # callbacks=[MyPrintingCallback(), EarlyStopping(monitor=\"val_loss\")],\n",
    ")\n",
    "# Runs train loops and performs validation at end of each train epoch\n",
    "trainer.fit(model, dm)\n",
    "# Runs a final validation run with trained model\n",
    "trainer.validate(model, dm)\n",
    "# Runs test run with trained model\n",
    "trainer.test(model, dm)\n"
   ]
  },
  {
   "cell_type": "code",
   "execution_count": null,
   "metadata": {},
   "outputs": [],
   "source": []
  },
  {
   "cell_type": "code",
   "execution_count": 11,
   "metadata": {},
   "outputs": [
    {
     "name": "stdout",
     "output_type": "stream",
     "text": [
      "2023-08-10 20:30:37,909 - GPU available: True (cuda), used: True\n",
      "2023-08-10 20:30:37,910 - TPU available: False, using: 0 TPU cores\n",
      "2023-08-10 20:30:37,911 - IPU available: False, using: 0 IPUs\n",
      "2023-08-10 20:30:37,911 - HPU available: False, using: 0 HPUs\n",
      "2023-08-10 20:30:37,915 - Restoring states from the checkpoint path at logs/seg_model_untrained_baseline_v2/version_1/checkpoints/epoch=99-step=900.ckpt\n"
     ]
    },
    {
     "name": "stderr",
     "output_type": "stream",
     "text": [
      "/home/incomple_/anaconda3/envs/ulip/lib/python3.7/site-packages/pytorch_lightning/trainer/connectors/checkpoint_connector.py:56: LightningDeprecationWarning: Setting `Trainer(resume_from_checkpoint=)` is deprecated in v1.5 and will be removed in v2.0. Please pass `Trainer.fit(ckpt_path=)` directly instead.\n",
      "  \"Setting `Trainer(resume_from_checkpoint=)` is deprecated in v1.5 and\"\n",
      "/home/incomple_/anaconda3/envs/ulip/lib/python3.7/site-packages/pytorch_lightning/trainer/trainer.py:1909: LightningDeprecationWarning: `trainer.resume_from_checkpoint` is deprecated in v1.5 and will be removed in v2.0. Specify the fit checkpoint path with `trainer.fit(ckpt_path=)` instead.\n",
      "  stacklevel=5,\n",
      "/home/incomple_/anaconda3/envs/ulip/lib/python3.7/site-packages/pytorch_lightning/trainer/trainer.py:1453: UserWarning: Be aware that when using `ckpt_path`, callbacks used to create the checkpoint need to be provided during `Trainer` instantiation. Please add the following callbacks: [\"ModelCheckpoint{'monitor': None, 'mode': 'min', 'every_n_train_steps': 0, 'every_n_epochs': 1, 'train_time_interval': None}\"].\n",
      "  \"Be aware that when using `ckpt_path`,\"\n"
     ]
    },
    {
     "name": "stdout",
     "output_type": "stream",
     "text": [
      "2023-08-10 20:30:40,527 - LOCAL_RANK: 0 - CUDA_VISIBLE_DEVICES: [0]\n",
      "2023-08-10 20:30:40,544 - \n",
      "  | Name    | Type          | Params\n",
      "------------------------------------------\n",
      "0 | model   | UNETR         | 92.8 M\n",
      "1 | loss_fn | DiceFocalLoss | 0     \n",
      "------------------------------------------\n",
      "92.8 M    Trainable params\n",
      "0         Non-trainable params\n",
      "92.8 M    Total params\n",
      "371.258   Total estimated model params size (MB)\n",
      "2023-08-10 20:30:41,412 - Restored all states from the checkpoint file at logs/seg_model_untrained_baseline_v2/version_1/checkpoints/epoch=99-step=900.ckpt\n"
     ]
    },
    {
     "data": {
      "application/vnd.jupyter.widget-view+json": {
       "model_id": "76fdfffb05ea4f4582f040dab6a76799",
       "version_major": 2,
       "version_minor": 0
      },
      "text/plain": [
       "Sanity Checking: 0it [00:00, ?it/s]"
      ]
     },
     "metadata": {},
     "output_type": "display_data"
    },
    {
     "name": "stderr",
     "output_type": "stream",
     "text": [
      "/home/incomple_/anaconda3/envs/ulip/lib/python3.7/site-packages/pytorch_lightning/trainer/connectors/data_connector.py:229: PossibleUserWarning: The dataloader, val_dataloader 0, does not have many workers which may be a bottleneck. Consider increasing the value of the `num_workers` argument` (try 20 which is the number of cpus on this machine) in the `DataLoader` init to improve performance.\n",
      "  category=PossibleUserWarning,\n",
      "/home/incomple_/anaconda3/envs/ulip/lib/python3.7/site-packages/pytorch_lightning/trainer/connectors/data_connector.py:229: PossibleUserWarning: The dataloader, train_dataloader, does not have many workers which may be a bottleneck. Consider increasing the value of the `num_workers` argument` (try 20 which is the number of cpus on this machine) in the `DataLoader` init to improve performance.\n",
      "  category=PossibleUserWarning,\n"
     ]
    },
    {
     "data": {
      "application/vnd.jupyter.widget-view+json": {
       "model_id": "16ab6034ca454d5286d9319da1cd42e9",
       "version_major": 2,
       "version_minor": 0
      },
      "text/plain": [
       "Training: 9it [00:00, ?it/s]"
      ]
     },
     "metadata": {},
     "output_type": "display_data"
    },
    {
     "data": {
      "application/vnd.jupyter.widget-view+json": {
       "model_id": "7f985880e797422ab99e542ec87271a2",
       "version_major": 2,
       "version_minor": 0
      },
      "text/plain": [
       "Validation: 0it [00:00, ?it/s]"
      ]
     },
     "metadata": {},
     "output_type": "display_data"
    },
    {
     "data": {
      "application/vnd.jupyter.widget-view+json": {
       "model_id": "4935d3e3ceae4e488b71681840d3a0a3",
       "version_major": 2,
       "version_minor": 0
      },
      "text/plain": [
       "Validation: 0it [00:00, ?it/s]"
      ]
     },
     "metadata": {},
     "output_type": "display_data"
    },
    {
     "data": {
      "application/vnd.jupyter.widget-view+json": {
       "model_id": "ce69a907a8514c66a562f94e0bfec1b4",
       "version_major": 2,
       "version_minor": 0
      },
      "text/plain": [
       "Validation: 0it [00:00, ?it/s]"
      ]
     },
     "metadata": {},
     "output_type": "display_data"
    },
    {
     "data": {
      "application/vnd.jupyter.widget-view+json": {
       "model_id": "2f20ef41a6e547bab832995a67b5faf1",
       "version_major": 2,
       "version_minor": 0
      },
      "text/plain": [
       "Validation: 0it [00:00, ?it/s]"
      ]
     },
     "metadata": {},
     "output_type": "display_data"
    },
    {
     "data": {
      "application/vnd.jupyter.widget-view+json": {
       "model_id": "5b389d28e20a4073bba38e2d06420d12",
       "version_major": 2,
       "version_minor": 0
      },
      "text/plain": [
       "Validation: 0it [00:00, ?it/s]"
      ]
     },
     "metadata": {},
     "output_type": "display_data"
    },
    {
     "data": {
      "application/vnd.jupyter.widget-view+json": {
       "model_id": "51347fdafd6d4a15861b86f934e8e489",
       "version_major": 2,
       "version_minor": 0
      },
      "text/plain": [
       "Validation: 0it [00:00, ?it/s]"
      ]
     },
     "metadata": {},
     "output_type": "display_data"
    },
    {
     "data": {
      "application/vnd.jupyter.widget-view+json": {
       "model_id": "38114d9cfc3041d28ced565c2527e5ff",
       "version_major": 2,
       "version_minor": 0
      },
      "text/plain": [
       "Validation: 0it [00:00, ?it/s]"
      ]
     },
     "metadata": {},
     "output_type": "display_data"
    },
    {
     "data": {
      "application/vnd.jupyter.widget-view+json": {
       "model_id": "fd33817fe6c342aabe4822ddade44a31",
       "version_major": 2,
       "version_minor": 0
      },
      "text/plain": [
       "Validation: 0it [00:00, ?it/s]"
      ]
     },
     "metadata": {},
     "output_type": "display_data"
    },
    {
     "data": {
      "application/vnd.jupyter.widget-view+json": {
       "model_id": "9b3c83713ad04558af1a4b0f7f121c86",
       "version_major": 2,
       "version_minor": 0
      },
      "text/plain": [
       "Validation: 0it [00:00, ?it/s]"
      ]
     },
     "metadata": {},
     "output_type": "display_data"
    },
    {
     "data": {
      "application/vnd.jupyter.widget-view+json": {
       "model_id": "0ba9680b8c6a48d38af5b422ee40303a",
       "version_major": 2,
       "version_minor": 0
      },
      "text/plain": [
       "Validation: 0it [00:00, ?it/s]"
      ]
     },
     "metadata": {},
     "output_type": "display_data"
    },
    {
     "data": {
      "application/vnd.jupyter.widget-view+json": {
       "model_id": "4543681383574ecf93b763d3bc5e84ed",
       "version_major": 2,
       "version_minor": 0
      },
      "text/plain": [
       "Validation: 0it [00:00, ?it/s]"
      ]
     },
     "metadata": {},
     "output_type": "display_data"
    },
    {
     "data": {
      "application/vnd.jupyter.widget-view+json": {
       "model_id": "f76a1d80ba25454dac2f3bdf3d6c20eb",
       "version_major": 2,
       "version_minor": 0
      },
      "text/plain": [
       "Validation: 0it [00:00, ?it/s]"
      ]
     },
     "metadata": {},
     "output_type": "display_data"
    },
    {
     "data": {
      "application/vnd.jupyter.widget-view+json": {
       "model_id": "701aaed82a4141cfaf13c2810a4f9b6c",
       "version_major": 2,
       "version_minor": 0
      },
      "text/plain": [
       "Validation: 0it [00:00, ?it/s]"
      ]
     },
     "metadata": {},
     "output_type": "display_data"
    },
    {
     "data": {
      "application/vnd.jupyter.widget-view+json": {
       "model_id": "cb34ae95259d44c3824784ffbd5aa4c2",
       "version_major": 2,
       "version_minor": 0
      },
      "text/plain": [
       "Validation: 0it [00:00, ?it/s]"
      ]
     },
     "metadata": {},
     "output_type": "display_data"
    },
    {
     "data": {
      "application/vnd.jupyter.widget-view+json": {
       "model_id": "88c5d91aacfa45de8001a5bf4975bfe0",
       "version_major": 2,
       "version_minor": 0
      },
      "text/plain": [
       "Validation: 0it [00:00, ?it/s]"
      ]
     },
     "metadata": {},
     "output_type": "display_data"
    },
    {
     "data": {
      "application/vnd.jupyter.widget-view+json": {
       "model_id": "dae8cb88b18d49a4a9501693010b48f2",
       "version_major": 2,
       "version_minor": 0
      },
      "text/plain": [
       "Validation: 0it [00:00, ?it/s]"
      ]
     },
     "metadata": {},
     "output_type": "display_data"
    },
    {
     "data": {
      "application/vnd.jupyter.widget-view+json": {
       "model_id": "ff9e737f81e944eea9da49a629d69927",
       "version_major": 2,
       "version_minor": 0
      },
      "text/plain": [
       "Validation: 0it [00:00, ?it/s]"
      ]
     },
     "metadata": {},
     "output_type": "display_data"
    },
    {
     "data": {
      "application/vnd.jupyter.widget-view+json": {
       "model_id": "1e9aa4b42e1e46a9929fbbd6deabdc72",
       "version_major": 2,
       "version_minor": 0
      },
      "text/plain": [
       "Validation: 0it [00:00, ?it/s]"
      ]
     },
     "metadata": {},
     "output_type": "display_data"
    },
    {
     "data": {
      "application/vnd.jupyter.widget-view+json": {
       "model_id": "925cb0cb95db4f7ea76e0c26ef12a06a",
       "version_major": 2,
       "version_minor": 0
      },
      "text/plain": [
       "Validation: 0it [00:00, ?it/s]"
      ]
     },
     "metadata": {},
     "output_type": "display_data"
    },
    {
     "data": {
      "application/vnd.jupyter.widget-view+json": {
       "model_id": "ef439626d88e415696e1363059bb8480",
       "version_major": 2,
       "version_minor": 0
      },
      "text/plain": [
       "Validation: 0it [00:00, ?it/s]"
      ]
     },
     "metadata": {},
     "output_type": "display_data"
    },
    {
     "data": {
      "application/vnd.jupyter.widget-view+json": {
       "model_id": "50bce9ce43924bdb97eb6e7616b9233e",
       "version_major": 2,
       "version_minor": 0
      },
      "text/plain": [
       "Validation: 0it [00:00, ?it/s]"
      ]
     },
     "metadata": {},
     "output_type": "display_data"
    },
    {
     "data": {
      "application/vnd.jupyter.widget-view+json": {
       "model_id": "bad69d2d55b1478ab279ad5a6b7b1a35",
       "version_major": 2,
       "version_minor": 0
      },
      "text/plain": [
       "Validation: 0it [00:00, ?it/s]"
      ]
     },
     "metadata": {},
     "output_type": "display_data"
    },
    {
     "data": {
      "application/vnd.jupyter.widget-view+json": {
       "model_id": "cafe476e54544095b1361a5ce02eae5e",
       "version_major": 2,
       "version_minor": 0
      },
      "text/plain": [
       "Validation: 0it [00:00, ?it/s]"
      ]
     },
     "metadata": {},
     "output_type": "display_data"
    },
    {
     "data": {
      "application/vnd.jupyter.widget-view+json": {
       "model_id": "e61d1b114ccb4e34a4b2ccbd8d247931",
       "version_major": 2,
       "version_minor": 0
      },
      "text/plain": [
       "Validation: 0it [00:00, ?it/s]"
      ]
     },
     "metadata": {},
     "output_type": "display_data"
    },
    {
     "data": {
      "application/vnd.jupyter.widget-view+json": {
       "model_id": "6014cbca8c2346c4b1dfc5219b5543f4",
       "version_major": 2,
       "version_minor": 0
      },
      "text/plain": [
       "Validation: 0it [00:00, ?it/s]"
      ]
     },
     "metadata": {},
     "output_type": "display_data"
    },
    {
     "data": {
      "application/vnd.jupyter.widget-view+json": {
       "model_id": "c8f8e02ff6ae44ec8ebe451ae1a926c6",
       "version_major": 2,
       "version_minor": 0
      },
      "text/plain": [
       "Validation: 0it [00:00, ?it/s]"
      ]
     },
     "metadata": {},
     "output_type": "display_data"
    },
    {
     "data": {
      "application/vnd.jupyter.widget-view+json": {
       "model_id": "47e59d5f1b7540f5be6cbc651f8c0ab5",
       "version_major": 2,
       "version_minor": 0
      },
      "text/plain": [
       "Validation: 0it [00:00, ?it/s]"
      ]
     },
     "metadata": {},
     "output_type": "display_data"
    },
    {
     "data": {
      "application/vnd.jupyter.widget-view+json": {
       "model_id": "01a8ca97604d4b1392f12dd1c93d1369",
       "version_major": 2,
       "version_minor": 0
      },
      "text/plain": [
       "Validation: 0it [00:00, ?it/s]"
      ]
     },
     "metadata": {},
     "output_type": "display_data"
    },
    {
     "data": {
      "application/vnd.jupyter.widget-view+json": {
       "model_id": "73c66a220ea9462ca91771fd24804476",
       "version_major": 2,
       "version_minor": 0
      },
      "text/plain": [
       "Validation: 0it [00:00, ?it/s]"
      ]
     },
     "metadata": {},
     "output_type": "display_data"
    },
    {
     "data": {
      "application/vnd.jupyter.widget-view+json": {
       "model_id": "c834890d070f48fc9c5f09acc6144ba8",
       "version_major": 2,
       "version_minor": 0
      },
      "text/plain": [
       "Validation: 0it [00:00, ?it/s]"
      ]
     },
     "metadata": {},
     "output_type": "display_data"
    },
    {
     "data": {
      "application/vnd.jupyter.widget-view+json": {
       "model_id": "4b364c78fb98470ab584d5db8f7d1eb7",
       "version_major": 2,
       "version_minor": 0
      },
      "text/plain": [
       "Validation: 0it [00:00, ?it/s]"
      ]
     },
     "metadata": {},
     "output_type": "display_data"
    },
    {
     "data": {
      "application/vnd.jupyter.widget-view+json": {
       "model_id": "8f591614539c44e98b7d14e9bc2a44c4",
       "version_major": 2,
       "version_minor": 0
      },
      "text/plain": [
       "Validation: 0it [00:00, ?it/s]"
      ]
     },
     "metadata": {},
     "output_type": "display_data"
    },
    {
     "data": {
      "application/vnd.jupyter.widget-view+json": {
       "model_id": "755df84ffb9744afa79a8627825ff102",
       "version_major": 2,
       "version_minor": 0
      },
      "text/plain": [
       "Validation: 0it [00:00, ?it/s]"
      ]
     },
     "metadata": {},
     "output_type": "display_data"
    },
    {
     "data": {
      "application/vnd.jupyter.widget-view+json": {
       "model_id": "93a32f2d5ec54fabb91c3b5d6163651d",
       "version_major": 2,
       "version_minor": 0
      },
      "text/plain": [
       "Validation: 0it [00:00, ?it/s]"
      ]
     },
     "metadata": {},
     "output_type": "display_data"
    },
    {
     "data": {
      "application/vnd.jupyter.widget-view+json": {
       "model_id": "07eb4fc9a9824133993bf8459b7deda1",
       "version_major": 2,
       "version_minor": 0
      },
      "text/plain": [
       "Validation: 0it [00:00, ?it/s]"
      ]
     },
     "metadata": {},
     "output_type": "display_data"
    },
    {
     "data": {
      "application/vnd.jupyter.widget-view+json": {
       "model_id": "1ea33b24894a4b02a248b6378c633ba5",
       "version_major": 2,
       "version_minor": 0
      },
      "text/plain": [
       "Validation: 0it [00:00, ?it/s]"
      ]
     },
     "metadata": {},
     "output_type": "display_data"
    },
    {
     "data": {
      "application/vnd.jupyter.widget-view+json": {
       "model_id": "b5801851ee8740789b3fd92f8ab607d5",
       "version_major": 2,
       "version_minor": 0
      },
      "text/plain": [
       "Validation: 0it [00:00, ?it/s]"
      ]
     },
     "metadata": {},
     "output_type": "display_data"
    },
    {
     "data": {
      "application/vnd.jupyter.widget-view+json": {
       "model_id": "eb40a23e5ee146feb7eda8a1d844f978",
       "version_major": 2,
       "version_minor": 0
      },
      "text/plain": [
       "Validation: 0it [00:00, ?it/s]"
      ]
     },
     "metadata": {},
     "output_type": "display_data"
    },
    {
     "data": {
      "application/vnd.jupyter.widget-view+json": {
       "model_id": "18af8aefeb1443f186c384dcda475e29",
       "version_major": 2,
       "version_minor": 0
      },
      "text/plain": [
       "Validation: 0it [00:00, ?it/s]"
      ]
     },
     "metadata": {},
     "output_type": "display_data"
    },
    {
     "data": {
      "application/vnd.jupyter.widget-view+json": {
       "model_id": "df3e09ae6787472a9a486568f17d2adf",
       "version_major": 2,
       "version_minor": 0
      },
      "text/plain": [
       "Validation: 0it [00:00, ?it/s]"
      ]
     },
     "metadata": {},
     "output_type": "display_data"
    },
    {
     "data": {
      "application/vnd.jupyter.widget-view+json": {
       "model_id": "102bcfaf8cbe48feba576147529de7fd",
       "version_major": 2,
       "version_minor": 0
      },
      "text/plain": [
       "Validation: 0it [00:00, ?it/s]"
      ]
     },
     "metadata": {},
     "output_type": "display_data"
    },
    {
     "data": {
      "application/vnd.jupyter.widget-view+json": {
       "model_id": "5d553bd1b8d74020b183565fc22a36a8",
       "version_major": 2,
       "version_minor": 0
      },
      "text/plain": [
       "Validation: 0it [00:00, ?it/s]"
      ]
     },
     "metadata": {},
     "output_type": "display_data"
    },
    {
     "data": {
      "application/vnd.jupyter.widget-view+json": {
       "model_id": "a84681fec0874bb09933ec8b610533c9",
       "version_major": 2,
       "version_minor": 0
      },
      "text/plain": [
       "Validation: 0it [00:00, ?it/s]"
      ]
     },
     "metadata": {},
     "output_type": "display_data"
    },
    {
     "data": {
      "application/vnd.jupyter.widget-view+json": {
       "model_id": "c454c1c47cf340389c5e0dc1213ffbf5",
       "version_major": 2,
       "version_minor": 0
      },
      "text/plain": [
       "Validation: 0it [00:00, ?it/s]"
      ]
     },
     "metadata": {},
     "output_type": "display_data"
    },
    {
     "data": {
      "application/vnd.jupyter.widget-view+json": {
       "model_id": "a6527911e89248dbbc21ea715cc7ed31",
       "version_major": 2,
       "version_minor": 0
      },
      "text/plain": [
       "Validation: 0it [00:00, ?it/s]"
      ]
     },
     "metadata": {},
     "output_type": "display_data"
    },
    {
     "data": {
      "application/vnd.jupyter.widget-view+json": {
       "model_id": "74dd7ce0771e435b9fab514a4a293890",
       "version_major": 2,
       "version_minor": 0
      },
      "text/plain": [
       "Validation: 0it [00:00, ?it/s]"
      ]
     },
     "metadata": {},
     "output_type": "display_data"
    },
    {
     "data": {
      "application/vnd.jupyter.widget-view+json": {
       "model_id": "232477cd8c94401098cd81590d26b3ea",
       "version_major": 2,
       "version_minor": 0
      },
      "text/plain": [
       "Validation: 0it [00:00, ?it/s]"
      ]
     },
     "metadata": {},
     "output_type": "display_data"
    },
    {
     "data": {
      "application/vnd.jupyter.widget-view+json": {
       "model_id": "bb03d7898bbb469e83f5796bdac4108d",
       "version_major": 2,
       "version_minor": 0
      },
      "text/plain": [
       "Validation: 0it [00:00, ?it/s]"
      ]
     },
     "metadata": {},
     "output_type": "display_data"
    },
    {
     "data": {
      "application/vnd.jupyter.widget-view+json": {
       "model_id": "db4833598ec84ffab9a96708e3a00581",
       "version_major": 2,
       "version_minor": 0
      },
      "text/plain": [
       "Validation: 0it [00:00, ?it/s]"
      ]
     },
     "metadata": {},
     "output_type": "display_data"
    },
    {
     "data": {
      "application/vnd.jupyter.widget-view+json": {
       "model_id": "f1e9980d9cb3468db334a57179320fdb",
       "version_major": 2,
       "version_minor": 0
      },
      "text/plain": [
       "Validation: 0it [00:00, ?it/s]"
      ]
     },
     "metadata": {},
     "output_type": "display_data"
    },
    {
     "data": {
      "application/vnd.jupyter.widget-view+json": {
       "model_id": "ccd7a876d5ce4c48a5412624237906c2",
       "version_major": 2,
       "version_minor": 0
      },
      "text/plain": [
       "Validation: 0it [00:00, ?it/s]"
      ]
     },
     "metadata": {},
     "output_type": "display_data"
    },
    {
     "data": {
      "application/vnd.jupyter.widget-view+json": {
       "model_id": "b44184ce32494c2f9b570bcf6fe9072b",
       "version_major": 2,
       "version_minor": 0
      },
      "text/plain": [
       "Validation: 0it [00:00, ?it/s]"
      ]
     },
     "metadata": {},
     "output_type": "display_data"
    },
    {
     "data": {
      "application/vnd.jupyter.widget-view+json": {
       "model_id": "209323c85f834447a3b7ac5dd493cefb",
       "version_major": 2,
       "version_minor": 0
      },
      "text/plain": [
       "Validation: 0it [00:00, ?it/s]"
      ]
     },
     "metadata": {},
     "output_type": "display_data"
    },
    {
     "data": {
      "application/vnd.jupyter.widget-view+json": {
       "model_id": "caa8ec4c826647d5afdc40840214b9da",
       "version_major": 2,
       "version_minor": 0
      },
      "text/plain": [
       "Validation: 0it [00:00, ?it/s]"
      ]
     },
     "metadata": {},
     "output_type": "display_data"
    },
    {
     "data": {
      "application/vnd.jupyter.widget-view+json": {
       "model_id": "bd568b8bd1c341b197e6dfaf8a5f97d5",
       "version_major": 2,
       "version_minor": 0
      },
      "text/plain": [
       "Validation: 0it [00:00, ?it/s]"
      ]
     },
     "metadata": {},
     "output_type": "display_data"
    },
    {
     "data": {
      "application/vnd.jupyter.widget-view+json": {
       "model_id": "49c7e9f915994232901776973bc8e1dd",
       "version_major": 2,
       "version_minor": 0
      },
      "text/plain": [
       "Validation: 0it [00:00, ?it/s]"
      ]
     },
     "metadata": {},
     "output_type": "display_data"
    },
    {
     "data": {
      "application/vnd.jupyter.widget-view+json": {
       "model_id": "853fd4f666ea4202a1a2f7ab1517763c",
       "version_major": 2,
       "version_minor": 0
      },
      "text/plain": [
       "Validation: 0it [00:00, ?it/s]"
      ]
     },
     "metadata": {},
     "output_type": "display_data"
    },
    {
     "data": {
      "application/vnd.jupyter.widget-view+json": {
       "model_id": "aaed1799240f424997e4c313d746777c",
       "version_major": 2,
       "version_minor": 0
      },
      "text/plain": [
       "Validation: 0it [00:00, ?it/s]"
      ]
     },
     "metadata": {},
     "output_type": "display_data"
    },
    {
     "data": {
      "application/vnd.jupyter.widget-view+json": {
       "model_id": "b2ac0b8a2a4d41b582d5889a9a7bc7c9",
       "version_major": 2,
       "version_minor": 0
      },
      "text/plain": [
       "Validation: 0it [00:00, ?it/s]"
      ]
     },
     "metadata": {},
     "output_type": "display_data"
    },
    {
     "data": {
      "application/vnd.jupyter.widget-view+json": {
       "model_id": "09b91611feb348e68246548872642494",
       "version_major": 2,
       "version_minor": 0
      },
      "text/plain": [
       "Validation: 0it [00:00, ?it/s]"
      ]
     },
     "metadata": {},
     "output_type": "display_data"
    },
    {
     "data": {
      "application/vnd.jupyter.widget-view+json": {
       "model_id": "ecebb6f330c84f3c9a363518e38c1af7",
       "version_major": 2,
       "version_minor": 0
      },
      "text/plain": [
       "Validation: 0it [00:00, ?it/s]"
      ]
     },
     "metadata": {},
     "output_type": "display_data"
    },
    {
     "data": {
      "application/vnd.jupyter.widget-view+json": {
       "model_id": "4c3e1bcf7a8f45d7b3ea5dcfdd6a4642",
       "version_major": 2,
       "version_minor": 0
      },
      "text/plain": [
       "Validation: 0it [00:00, ?it/s]"
      ]
     },
     "metadata": {},
     "output_type": "display_data"
    },
    {
     "data": {
      "application/vnd.jupyter.widget-view+json": {
       "model_id": "0b39078cc23844c4a8d580754649629c",
       "version_major": 2,
       "version_minor": 0
      },
      "text/plain": [
       "Validation: 0it [00:00, ?it/s]"
      ]
     },
     "metadata": {},
     "output_type": "display_data"
    },
    {
     "data": {
      "application/vnd.jupyter.widget-view+json": {
       "model_id": "b764f7a178ce4aeebd31211aadfd0c77",
       "version_major": 2,
       "version_minor": 0
      },
      "text/plain": [
       "Validation: 0it [00:00, ?it/s]"
      ]
     },
     "metadata": {},
     "output_type": "display_data"
    },
    {
     "data": {
      "application/vnd.jupyter.widget-view+json": {
       "model_id": "23d802cae4304394af6a5077b6dbad3d",
       "version_major": 2,
       "version_minor": 0
      },
      "text/plain": [
       "Validation: 0it [00:00, ?it/s]"
      ]
     },
     "metadata": {},
     "output_type": "display_data"
    },
    {
     "data": {
      "application/vnd.jupyter.widget-view+json": {
       "model_id": "430205aa36d14fa7bf37e06b9767464a",
       "version_major": 2,
       "version_minor": 0
      },
      "text/plain": [
       "Validation: 0it [00:00, ?it/s]"
      ]
     },
     "metadata": {},
     "output_type": "display_data"
    },
    {
     "data": {
      "application/vnd.jupyter.widget-view+json": {
       "model_id": "a6cd5d1995634bc48e5def24e81512fb",
       "version_major": 2,
       "version_minor": 0
      },
      "text/plain": [
       "Validation: 0it [00:00, ?it/s]"
      ]
     },
     "metadata": {},
     "output_type": "display_data"
    },
    {
     "data": {
      "application/vnd.jupyter.widget-view+json": {
       "model_id": "df66455a07fa4b51996650efff6b8600",
       "version_major": 2,
       "version_minor": 0
      },
      "text/plain": [
       "Validation: 0it [00:00, ?it/s]"
      ]
     },
     "metadata": {},
     "output_type": "display_data"
    },
    {
     "data": {
      "application/vnd.jupyter.widget-view+json": {
       "model_id": "5a06f65da22845b592ecec0ce5982209",
       "version_major": 2,
       "version_minor": 0
      },
      "text/plain": [
       "Validation: 0it [00:00, ?it/s]"
      ]
     },
     "metadata": {},
     "output_type": "display_data"
    },
    {
     "data": {
      "application/vnd.jupyter.widget-view+json": {
       "model_id": "d924f1a82c8346c7ab0b4737508358c7",
       "version_major": 2,
       "version_minor": 0
      },
      "text/plain": [
       "Validation: 0it [00:00, ?it/s]"
      ]
     },
     "metadata": {},
     "output_type": "display_data"
    },
    {
     "data": {
      "application/vnd.jupyter.widget-view+json": {
       "model_id": "697d8540ea6b4ceabcca985177dd4b03",
       "version_major": 2,
       "version_minor": 0
      },
      "text/plain": [
       "Validation: 0it [00:00, ?it/s]"
      ]
     },
     "metadata": {},
     "output_type": "display_data"
    },
    {
     "data": {
      "application/vnd.jupyter.widget-view+json": {
       "model_id": "691451acbc0f4e1ab82db4dc537d9114",
       "version_major": 2,
       "version_minor": 0
      },
      "text/plain": [
       "Validation: 0it [00:00, ?it/s]"
      ]
     },
     "metadata": {},
     "output_type": "display_data"
    },
    {
     "data": {
      "application/vnd.jupyter.widget-view+json": {
       "model_id": "bbfd30f9cfd64b95bc199dadb553d8be",
       "version_major": 2,
       "version_minor": 0
      },
      "text/plain": [
       "Validation: 0it [00:00, ?it/s]"
      ]
     },
     "metadata": {},
     "output_type": "display_data"
    },
    {
     "data": {
      "application/vnd.jupyter.widget-view+json": {
       "model_id": "cee5f520b25f4964884b8465fe65f051",
       "version_major": 2,
       "version_minor": 0
      },
      "text/plain": [
       "Validation: 0it [00:00, ?it/s]"
      ]
     },
     "metadata": {},
     "output_type": "display_data"
    },
    {
     "data": {
      "application/vnd.jupyter.widget-view+json": {
       "model_id": "bc4d913e0435443eaf2e1a723c29296c",
       "version_major": 2,
       "version_minor": 0
      },
      "text/plain": [
       "Validation: 0it [00:00, ?it/s]"
      ]
     },
     "metadata": {},
     "output_type": "display_data"
    },
    {
     "data": {
      "application/vnd.jupyter.widget-view+json": {
       "model_id": "f513f991c84645bc8a946af37c784660",
       "version_major": 2,
       "version_minor": 0
      },
      "text/plain": [
       "Validation: 0it [00:00, ?it/s]"
      ]
     },
     "metadata": {},
     "output_type": "display_data"
    },
    {
     "data": {
      "application/vnd.jupyter.widget-view+json": {
       "model_id": "4c6f2728403b4fe4baf83906fad4e89c",
       "version_major": 2,
       "version_minor": 0
      },
      "text/plain": [
       "Validation: 0it [00:00, ?it/s]"
      ]
     },
     "metadata": {},
     "output_type": "display_data"
    },
    {
     "data": {
      "application/vnd.jupyter.widget-view+json": {
       "model_id": "c4200ac0622748c8afaa86153633db94",
       "version_major": 2,
       "version_minor": 0
      },
      "text/plain": [
       "Validation: 0it [00:00, ?it/s]"
      ]
     },
     "metadata": {},
     "output_type": "display_data"
    },
    {
     "data": {
      "application/vnd.jupyter.widget-view+json": {
       "model_id": "6a375c1884fb462db0ddbe118bd22bf5",
       "version_major": 2,
       "version_minor": 0
      },
      "text/plain": [
       "Validation: 0it [00:00, ?it/s]"
      ]
     },
     "metadata": {},
     "output_type": "display_data"
    },
    {
     "data": {
      "application/vnd.jupyter.widget-view+json": {
       "model_id": "1d3e82857bd44fe88b708412d8966421",
       "version_major": 2,
       "version_minor": 0
      },
      "text/plain": [
       "Validation: 0it [00:00, ?it/s]"
      ]
     },
     "metadata": {},
     "output_type": "display_data"
    },
    {
     "data": {
      "application/vnd.jupyter.widget-view+json": {
       "model_id": "356095128c3e4bf3806afa378ade136b",
       "version_major": 2,
       "version_minor": 0
      },
      "text/plain": [
       "Validation: 0it [00:00, ?it/s]"
      ]
     },
     "metadata": {},
     "output_type": "display_data"
    },
    {
     "data": {
      "application/vnd.jupyter.widget-view+json": {
       "model_id": "0daf8d2fa54b41148d5298333d6a93ba",
       "version_major": 2,
       "version_minor": 0
      },
      "text/plain": [
       "Validation: 0it [00:00, ?it/s]"
      ]
     },
     "metadata": {},
     "output_type": "display_data"
    },
    {
     "data": {
      "application/vnd.jupyter.widget-view+json": {
       "model_id": "054e5a5a83974ad7ba5b35f6813b64d1",
       "version_major": 2,
       "version_minor": 0
      },
      "text/plain": [
       "Validation: 0it [00:00, ?it/s]"
      ]
     },
     "metadata": {},
     "output_type": "display_data"
    },
    {
     "data": {
      "application/vnd.jupyter.widget-view+json": {
       "model_id": "65aafae5c3054d7f936dcfedbe37e8ae",
       "version_major": 2,
       "version_minor": 0
      },
      "text/plain": [
       "Validation: 0it [00:00, ?it/s]"
      ]
     },
     "metadata": {},
     "output_type": "display_data"
    },
    {
     "data": {
      "application/vnd.jupyter.widget-view+json": {
       "model_id": "44a2a0308e53425b9aa8a2c5493872a6",
       "version_major": 2,
       "version_minor": 0
      },
      "text/plain": [
       "Validation: 0it [00:00, ?it/s]"
      ]
     },
     "metadata": {},
     "output_type": "display_data"
    },
    {
     "data": {
      "application/vnd.jupyter.widget-view+json": {
       "model_id": "ae2070c536ca4b91ba15a01326d0be35",
       "version_major": 2,
       "version_minor": 0
      },
      "text/plain": [
       "Validation: 0it [00:00, ?it/s]"
      ]
     },
     "metadata": {},
     "output_type": "display_data"
    },
    {
     "data": {
      "application/vnd.jupyter.widget-view+json": {
       "model_id": "4e81a0d970cd44979eab3976d7e9cdc9",
       "version_major": 2,
       "version_minor": 0
      },
      "text/plain": [
       "Validation: 0it [00:00, ?it/s]"
      ]
     },
     "metadata": {},
     "output_type": "display_data"
    },
    {
     "data": {
      "application/vnd.jupyter.widget-view+json": {
       "model_id": "adffb2bfa4aa4745a6d4a8e9dfc9233a",
       "version_major": 2,
       "version_minor": 0
      },
      "text/plain": [
       "Validation: 0it [00:00, ?it/s]"
      ]
     },
     "metadata": {},
     "output_type": "display_data"
    },
    {
     "data": {
      "application/vnd.jupyter.widget-view+json": {
       "model_id": "c80b26ab2d824c25b4e5fd5f31cad0ed",
       "version_major": 2,
       "version_minor": 0
      },
      "text/plain": [
       "Validation: 0it [00:00, ?it/s]"
      ]
     },
     "metadata": {},
     "output_type": "display_data"
    },
    {
     "data": {
      "application/vnd.jupyter.widget-view+json": {
       "model_id": "1b424946deb74266bee14014486765f2",
       "version_major": 2,
       "version_minor": 0
      },
      "text/plain": [
       "Validation: 0it [00:00, ?it/s]"
      ]
     },
     "metadata": {},
     "output_type": "display_data"
    },
    {
     "data": {
      "application/vnd.jupyter.widget-view+json": {
       "model_id": "244593cc0ded40d8b81b7d563ec7d926",
       "version_major": 2,
       "version_minor": 0
      },
      "text/plain": [
       "Validation: 0it [00:00, ?it/s]"
      ]
     },
     "metadata": {},
     "output_type": "display_data"
    },
    {
     "data": {
      "application/vnd.jupyter.widget-view+json": {
       "model_id": "ba4414880f4446378f7535de8abe856f",
       "version_major": 2,
       "version_minor": 0
      },
      "text/plain": [
       "Validation: 0it [00:00, ?it/s]"
      ]
     },
     "metadata": {},
     "output_type": "display_data"
    },
    {
     "data": {
      "application/vnd.jupyter.widget-view+json": {
       "model_id": "04506b8b9ea44275a1f3c8701fd7646d",
       "version_major": 2,
       "version_minor": 0
      },
      "text/plain": [
       "Validation: 0it [00:00, ?it/s]"
      ]
     },
     "metadata": {},
     "output_type": "display_data"
    },
    {
     "data": {
      "application/vnd.jupyter.widget-view+json": {
       "model_id": "3a169f601dfa4b6eb7dd9547c58c4e86",
       "version_major": 2,
       "version_minor": 0
      },
      "text/plain": [
       "Validation: 0it [00:00, ?it/s]"
      ]
     },
     "metadata": {},
     "output_type": "display_data"
    },
    {
     "data": {
      "application/vnd.jupyter.widget-view+json": {
       "model_id": "4abaa4392a5546adb99c45fd63f7e48a",
       "version_major": 2,
       "version_minor": 0
      },
      "text/plain": [
       "Validation: 0it [00:00, ?it/s]"
      ]
     },
     "metadata": {},
     "output_type": "display_data"
    },
    {
     "data": {
      "application/vnd.jupyter.widget-view+json": {
       "model_id": "41f35e5cd3d742acb082600c9e0dd179",
       "version_major": 2,
       "version_minor": 0
      },
      "text/plain": [
       "Validation: 0it [00:00, ?it/s]"
      ]
     },
     "metadata": {},
     "output_type": "display_data"
    },
    {
     "data": {
      "application/vnd.jupyter.widget-view+json": {
       "model_id": "52c90efdb17944a6a303fde72926cf03",
       "version_major": 2,
       "version_minor": 0
      },
      "text/plain": [
       "Validation: 0it [00:00, ?it/s]"
      ]
     },
     "metadata": {},
     "output_type": "display_data"
    },
    {
     "data": {
      "application/vnd.jupyter.widget-view+json": {
       "model_id": "48884409ab0a4ceda38e22ca09821e3d",
       "version_major": 2,
       "version_minor": 0
      },
      "text/plain": [
       "Validation: 0it [00:00, ?it/s]"
      ]
     },
     "metadata": {},
     "output_type": "display_data"
    },
    {
     "data": {
      "application/vnd.jupyter.widget-view+json": {
       "model_id": "ec6b2938b2084bc58107c395db5ec70e",
       "version_major": 2,
       "version_minor": 0
      },
      "text/plain": [
       "Validation: 0it [00:00, ?it/s]"
      ]
     },
     "metadata": {},
     "output_type": "display_data"
    },
    {
     "data": {
      "application/vnd.jupyter.widget-view+json": {
       "model_id": "29add3d493ca477193533f11e06a26a7",
       "version_major": 2,
       "version_minor": 0
      },
      "text/plain": [
       "Validation: 0it [00:00, ?it/s]"
      ]
     },
     "metadata": {},
     "output_type": "display_data"
    },
    {
     "name": "stdout",
     "output_type": "stream",
     "text": [
      "2023-08-10 23:44:37,893 - `Trainer.fit` stopped: `max_epochs=200` reached.\n",
      "2023-08-10 23:44:38,826 - LOCAL_RANK: 0 - CUDA_VISIBLE_DEVICES: [0]\n"
     ]
    },
    {
     "name": "stderr",
     "output_type": "stream",
     "text": [
      "/home/incomple_/anaconda3/envs/ulip/lib/python3.7/site-packages/pytorch_lightning/trainer/connectors/data_connector.py:229: PossibleUserWarning: The dataloader, val_dataloader 0, does not have many workers which may be a bottleneck. Consider increasing the value of the `num_workers` argument` (try 20 which is the number of cpus on this machine) in the `DataLoader` init to improve performance.\n",
      "  category=PossibleUserWarning,\n"
     ]
    },
    {
     "data": {
      "application/vnd.jupyter.widget-view+json": {
       "model_id": "ac652a16d53f4885aaad22e56f4abd5f",
       "version_major": 2,
       "version_minor": 0
      },
      "text/plain": [
       "Validation: 0it [00:00, ?it/s]"
      ]
     },
     "metadata": {},
     "output_type": "display_data"
    },
    {
     "name": "stdout",
     "output_type": "stream",
     "text": [
      "────────────────────────────────────────────────────────────────────────────────────────────────────────────────────────\n",
      "     Validate metric           DataLoader 0\n",
      "────────────────────────────────────────────────────────────────────────────────────────────────────────────────────────\n",
      "     val_dice_score        0.013893558643758297\n",
      "        val_loss            1.0055769681930542\n",
      "────────────────────────────────────────────────────────────────────────────────────────────────────────────────────────\n",
      "2023-08-10 23:45:40,429 - LOCAL_RANK: 0 - CUDA_VISIBLE_DEVICES: [0]\n"
     ]
    },
    {
     "name": "stderr",
     "output_type": "stream",
     "text": [
      "/home/incomple_/anaconda3/envs/ulip/lib/python3.7/site-packages/pytorch_lightning/trainer/connectors/data_connector.py:229: PossibleUserWarning: The dataloader, test_dataloader 0, does not have many workers which may be a bottleneck. Consider increasing the value of the `num_workers` argument` (try 20 which is the number of cpus on this machine) in the `DataLoader` init to improve performance.\n",
      "  category=PossibleUserWarning,\n"
     ]
    },
    {
     "data": {
      "application/vnd.jupyter.widget-view+json": {
       "model_id": "e581db1f0a664fd295d3a40727615139",
       "version_major": 2,
       "version_minor": 0
      },
      "text/plain": [
       "Testing: 0it [00:00, ?it/s]"
      ]
     },
     "metadata": {},
     "output_type": "display_data"
    },
    {
     "name": "stdout",
     "output_type": "stream",
     "text": [
      "────────────────────────────────────────────────────────────────────────────────────────────────────────────────────────\n",
      "       Test metric             DataLoader 0\n",
      "────────────────────────────────────────────────────────────────────────────────────────────────────────────────────────\n",
      "     test_dice_score                0.0\n",
      "        test_loss           1.0077022314071655\n",
      "────────────────────────────────────────────────────────────────────────────────────────────────────────────────────────\n"
     ]
    },
    {
     "data": {
      "text/plain": [
       "[{'test_loss': 1.0077022314071655, 'test_dice_score': 0.0}]"
      ]
     },
     "execution_count": 11,
     "metadata": {},
     "output_type": "execute_result"
    },
    {
     "ename": "",
     "evalue": "",
     "output_type": "error",
     "traceback": [
      "\u001b[1;31mThe Kernel crashed while executing code in the the current cell or a previous cell. Please review the code in the cell(s) to identify a possible cause of the failure. Click <a href='https://aka.ms/vscodeJupyterKernelCrash'>here</a> for more info. View Jupyter <a href='command:jupyter.viewOutput'>log</a> for further details."
     ]
    }
   ],
   "source": [
    "CHECKPOINT_PATH = \"logs/seg_model_untrained_baseline_v2/version_1/checkpoints/epoch=99-step=900.ckpt\"\n",
    "NEW_NUM_EPOCHS = 200  # Resuming training for another 100 epochs, total of 200\n",
    "\n",
    "# ... (rest of the code remains the same)\n",
    "\n",
    "trainer = pl.Trainer(\n",
    "    # profiler=profiler,\n",
    "    logger=logger,\n",
    "    accelerator=ACCELERATOR,\n",
    "    devices=DEVICES,\n",
    "    min_epochs=1,\n",
    "    max_epochs=NEW_NUM_EPOCHS,\n",
    "    precision=PRECISION,\n",
    "    log_every_n_steps=3,\n",
    "    # Resuming training from the checkpoint\n",
    "    resume_from_checkpoint=CHECKPOINT_PATH,\n",
    "    callbacks=[checkpoint_callback],\n",
    "    # fast_dev_run = True\n",
    "    # callbacks=[MyPrintingCallback(), EarlyStopping(monitor=\"val_loss\")],\n",
    ")\n",
    "\n",
    "# Runs train loops and performs validation at end of each train epoch\n",
    "trainer.fit(model, dm)\n",
    "# Runs a final validation run with trained model\n",
    "trainer.validate(model, dm)\n",
    "# Runs test run with trained model\n",
    "trainer.test(model, dm)\n"
   ]
  },
  {
   "cell_type": "code",
   "execution_count": null,
   "metadata": {},
   "outputs": [],
   "source": []
  },
  {
   "cell_type": "code",
   "execution_count": null,
   "metadata": {},
   "outputs": [],
   "source": []
  }
 ],
 "metadata": {
  "kernelspec": {
   "display_name": "ulip",
   "language": "python",
   "name": "python3"
  },
  "language_info": {
   "codemirror_mode": {
    "name": "ipython",
    "version": 3
   },
   "file_extension": ".py",
   "mimetype": "text/x-python",
   "name": "python",
   "nbconvert_exporter": "python",
   "pygments_lexer": "ipython3",
   "version": "3.7.15"
  },
  "orig_nbformat": 4
 },
 "nbformat": 4,
 "nbformat_minor": 2
}
